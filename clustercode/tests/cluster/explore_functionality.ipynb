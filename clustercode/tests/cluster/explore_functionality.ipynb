{
 "cells": [
  {
   "cell_type": "code",
   "execution_count": 30,
   "metadata": {},
   "outputs": [],
   "source": [
    "import MDAnalysis\n",
    "from clustercode import ClusterEnsemble\n",
    "import matplotlib \n",
    "import matplotlib.pyplot as plt"
   ]
  },
  {
   "cell_type": "code",
   "execution_count": 31,
   "metadata": {
    "tags": []
   },
   "outputs": [
    {
     "output_type": "stream",
     "name": "stdout",
     "text": "Residue names: SOL, Cl, Na, SDS\nNumber of residiue: 6130\nAtom names: C9, Na, S, C11, OS4, C4, C8, C2, C12, HW2, C6, C7, Cl, OS2, C1, HW1, C10, OS1, OS3, OW, C3, C5\nNumber of atoms: 19174\nLength of trajectory: 71\n"
    }
   ],
   "source": [
    "'''\n",
    "This is a small atomistic trajectory including a single large micelle of aggregation number 100.\n",
    "The Micelle is composed of SDS which has a HSO4 headgroup and carbon tail groups \n",
    "'''\n",
    "xtc = \"files/traj_small.xtc\"\n",
    "tpr = \"files/topol_small.tpr\"\n",
    "\n",
    "# First we are going to look at the trajectory with some basic MDAnalysis commands\n",
    "universe = MDAnalysis.Universe(tpr, xtc)\n",
    "\n",
    "atom_names = set(universe.atoms.names)\n",
    "residue_names = set(universe.residues.resnames)\n",
    "atom_number = universe.atoms.n_atoms\n",
    "residue_number = universe.residues.n_residues\n",
    "print('Residue names: {:s}'.format(', '.join(residue_names)))\n",
    "print('Number of residiue: {:d}'.format(residue_number))\n",
    "print('Atom names: {:s}'.format(', '.join(atom_names)))\n",
    "print('Number of atoms: {:d}'.format(atom_number))\n",
    "print('Length of trajectory: {:d}'.format(universe.trajectory.n_frames))"
   ]
  },
  {
   "cell_type": "code",
   "execution_count": 32,
   "metadata": {},
   "outputs": [],
   "source": [
    "'''\n",
    "We want two molecules to be considered in a cluster when their carbon tails are close enough together. \n",
    "Therefore the 'cluster_objects' will be C1 - C12\n",
    "We initialise the ClusterEnsemble object as follows:\n",
    "'''\n",
    "cluster_objects = ['C{:d}'.format(i) for i in range(1,13)]\n",
    "\n",
    "ClstrEns = ClusterEnsemble(tpr, xtc, cluster_objects)"
   ]
  },
  {
   "cell_type": "code",
   "execution_count": 33,
   "metadata": {},
   "outputs": [],
   "source": [
    "'''\n",
    "Run the analysis for each frame within the specified times. cut-off is in Angstroem and describes how close two\n",
    "objects need to be to considered in the same cluster. This still depends on the measure parameter which is either\n",
    "centre of geometry (COG), centre of mass (COM) or bead to bead (b2b). \n",
    "'''\n",
    "ClstrEns.cluster_analysis(cut_off=7.5, times=(60e3, 70e3), measure=\"COM\", algorithm=\"dynamic\", work_in=\"Residue\", style=\"atom\")"
   ]
  },
  {
   "cell_type": "code",
   "execution_count": 34,
   "metadata": {},
   "outputs": [],
   "source": [
    "# This trajectory is larger and describes the inital phase of micellisations\n",
    "xtc = \"files/traj_large.xtc\"\n",
    "tpr = \"files/topol_large.tpr\"\n",
    "ClstrEns = ClusterEnsemble(tpr, xtc, cluster_objects)"
   ]
  },
  {
   "cell_type": "code",
   "execution_count": 35,
   "metadata": {},
   "outputs": [],
   "source": [
    "ClstrEns.cluster_analysis(cut_off=3.5, times=(0, 10000), measure=\"COM\", algorithm=\"dynamic\", work_in=\"Residue\", style=\"atom\")"
   ]
  },
  {
   "cell_type": "code",
   "execution_count": 36,
   "metadata": {},
   "outputs": [],
   "source": [
    "\"\"\"\n",
    "These function will be added to the object soond as of now they are \n",
    "here to use.\n",
    "\"\"\"\n",
    "def get_cluster_size(cluster_list, frame):\n",
    "    '''\n",
    "    This function calculates the size of cluster in a single frame\n",
    "    '''\n",
    "    return [len(cluster) for cluster in cluster_list[frame]]\n",
    "\n",
    "def get_cluster_sizes(cluster_list, first=None, last=None, stride=1):\n",
    "    '''\n",
    "    This function calculates the sizes of clusters in multiple frames.\n",
    "    start and stop are measured in frames.\n",
    "    '''\n",
    "    if first is None: first = 0\n",
    "    if last is None: last = len(cluster_list)\n",
    "    cluster_sizes = []\n",
    "    frames = (first, last, stride)\n",
    "    for frame in range(first, last, stride):\n",
    "        cluster_sizes.append(get_cluster_size(cluster_list, frame))\n",
    "    return cluster_sizes"
   ]
  },
  {
   "cell_type": "code",
   "execution_count": 37,
   "metadata": {},
   "outputs": [
    {
     "output_type": "stream",
     "name": "stdout",
     "text": "Cluter sizes in 0. frame: 28, 112, 47, 27, 41, 83, 4, 21, 29, 7, 1\nCluter sizes in 50. frame: 28, 112, 47, 27, 41, 83, 4, 21, 29, 7, 1\nCluter sizes in 51. frame: 28, 112, 47, 27, 41, 83, 4, 21, 29, 7, 1\nCluter sizes in 52. frame: 28, 78, 47, 34, 27, 41, 83, 4, 21, 29, 7, 1\nCluter sizes in 53. frame: 28, 11, 67, 47, 34, 27, 41, 83, 4, 21, 29, 7, 1\nCluter sizes in 54. frame: 28, 119, 47, 34, 27, 83, 4, 21, 29, 7, 1\n"
    }
   ],
   "source": [
    "cluster_list = ClstrEns.cluster_list\n",
    "# Get the size distribution of clusters in the first frame:\n",
    "frame_0_clusters = ClstrEns.cluster_sizes[50]\n",
    "def print_clusters(frames, i):\n",
    "    print('Cluter sizes in {:d}. frame: {:s}'.format(i, ', '.join([str(item) for item in frames])))\n",
    "print_clusters(frame_0_clusters, 0)\n",
    "\n",
    "# Get the size distribution of several frames (from 50 to 54 here). \n",
    "# The return value of _get_cluster_size and _get_cluster_sizes is actually \n",
    "# a list and list of list respectively\n",
    "frames_clusters = ClstrEns.cluster_sizes[50:55]\n",
    "for frame, i in zip(frames_clusters, range(50, 55)):\n",
    "    print_clusters(frame, i)"
   ]
  },
  {
   "cell_type": "code",
   "execution_count": 38,
   "metadata": {},
   "outputs": [
    {
     "output_type": "display_data",
     "data": {
      "text/plain": "<Figure size 432x288 with 1 Axes>",
      "image/svg+xml": "<?xml version=\"1.0\" encoding=\"utf-8\" standalone=\"no\"?>\n<!DOCTYPE svg PUBLIC \"-//W3C//DTD SVG 1.1//EN\"\n  \"http://www.w3.org/Graphics/SVG/1.1/DTD/svg11.dtd\">\n<!-- Created with matplotlib (https://matplotlib.org/) -->\n<svg height=\"262.19625pt\" version=\"1.1\" viewBox=\"0 0 398.50625 262.19625\" width=\"398.50625pt\" xmlns=\"http://www.w3.org/2000/svg\" xmlns:xlink=\"http://www.w3.org/1999/xlink\">\n <defs>\n  <style type=\"text/css\">\n*{stroke-linecap:butt;stroke-linejoin:round;}\n  </style>\n </defs>\n <g id=\"figure_1\">\n  <g id=\"patch_1\">\n   <path d=\"M 0 262.19625 \nL 398.50625 262.19625 \nL 398.50625 0 \nL 0 0 \nz\n\" style=\"fill:none;\"/>\n  </g>\n  <g id=\"axes_1\">\n   <g id=\"patch_2\">\n    <path d=\"M 56.50625 224.64 \nL 391.30625 224.64 \nL 391.30625 7.2 \nL 56.50625 7.2 \nz\n\" style=\"fill:#ffffff;\"/>\n   </g>\n   <g id=\"patch_3\">\n    <path clip-path=\"url(#p53836cd3fb)\" d=\"M 71.724432 224.64 \nL 84.147437 224.64 \nL 84.147437 34.733129 \nL 71.724432 34.733129 \nz\n\" style=\"fill:#1f77b4;\"/>\n   </g>\n   <g id=\"patch_4\">\n    <path clip-path=\"url(#p53836cd3fb)\" d=\"M 102.781946 224.64 \nL 115.204951 224.64 \nL 115.204951 170.785813 \nL 102.781946 170.785813 \nz\n\" style=\"fill:#1f77b4;\"/>\n   </g>\n   <g id=\"patch_5\">\n    <path clip-path=\"url(#p53836cd3fb)\" d=\"M 133.83946 224.64 \nL 146.262465 224.64 \nL 146.262465 71.580731 \nL 133.83946 71.580731 \nz\n\" style=\"fill:#1f77b4;\"/>\n   </g>\n   <g id=\"patch_6\">\n    <path clip-path=\"url(#p53836cd3fb)\" d=\"M 164.896974 224.64 \nL 177.319979 224.64 \nL 177.319979 128.269349 \nL 164.896974 128.269349 \nz\n\" style=\"fill:#1f77b4;\"/>\n   </g>\n   <g id=\"patch_7\">\n    <path clip-path=\"url(#p53836cd3fb)\" d=\"M 195.954487 224.64 \nL 208.377493 224.64 \nL 208.377493 193.46126 \nL 195.954487 193.46126 \nz\n\" style=\"fill:#1f77b4;\"/>\n   </g>\n   <g id=\"patch_8\">\n    <path clip-path=\"url(#p53836cd3fb)\" d=\"M 227.012001 224.64 \nL 239.435007 224.64 \nL 239.435007 184.957967 \nL 227.012001 184.957967 \nz\n\" style=\"fill:#1f77b4;\"/>\n   </g>\n   <g id=\"patch_9\">\n    <path clip-path=\"url(#p53836cd3fb)\" d=\"M 258.069515 224.64 \nL 270.492521 224.64 \nL 270.492521 159.448089 \nL 258.069515 159.448089 \nz\n\" style=\"fill:#1f77b4;\"/>\n   </g>\n   <g id=\"patch_10\">\n    <path clip-path=\"url(#p53836cd3fb)\" d=\"M 289.127029 224.64 \nL 301.550035 224.64 \nL 301.550035 221.805569 \nL 289.127029 221.805569 \nz\n\" style=\"fill:#1f77b4;\"/>\n   </g>\n   <g id=\"patch_11\">\n    <path clip-path=\"url(#p53836cd3fb)\" d=\"M 320.184543 224.64 \nL 332.607549 224.64 \nL 332.607549 216.136707 \nL 320.184543 216.136707 \nz\n\" style=\"fill:#1f77b4;\"/>\n   </g>\n   <g id=\"patch_12\">\n    <path clip-path=\"url(#p53836cd3fb)\" d=\"M 351.242057 224.64 \nL 363.665063 224.64 \nL 363.665063 218.971138 \nL 351.242057 218.971138 \nz\n\" style=\"fill:#1f77b4;\"/>\n   </g>\n   <g id=\"patch_13\">\n    <path clip-path=\"url(#p53836cd3fb)\" d=\"M 84.147437 224.64 \nL 96.570443 224.64 \nL 96.570443 224.64 \nL 84.147437 224.64 \nz\n\" style=\"fill:#ff7f0e;\"/>\n   </g>\n   <g id=\"patch_14\">\n    <path clip-path=\"url(#p53836cd3fb)\" d=\"M 115.204951 224.64 \nL 127.627957 224.64 \nL 127.627957 160.37202 \nL 115.204951 160.37202 \nz\n\" style=\"fill:#ff7f0e;\"/>\n   </g>\n   <g id=\"patch_15\">\n    <path clip-path=\"url(#p53836cd3fb)\" d=\"M 146.262465 224.64 \nL 158.685471 224.64 \nL 158.685471 17.554286 \nL 146.262465 17.554286 \nz\n\" style=\"fill:#ff7f0e;\"/>\n   </g>\n   <g id=\"patch_16\">\n    <path clip-path=\"url(#p53836cd3fb)\" d=\"M 177.319979 224.64 \nL 189.742985 224.64 \nL 189.742985 63.970049 \nL 177.319979 63.970049 \nz\n\" style=\"fill:#ff7f0e;\"/>\n   </g>\n   <g id=\"patch_17\">\n    <path clip-path=\"url(#p53836cd3fb)\" d=\"M 208.377493 224.64 \nL 220.800499 224.64 \nL 220.800499 135.378916 \nL 208.377493 135.378916 \nz\n\" style=\"fill:#ff7f0e;\"/>\n   </g>\n   <g id=\"patch_18\">\n    <path clip-path=\"url(#p53836cd3fb)\" d=\"M 239.435007 224.64 \nL 251.858013 224.64 \nL 251.858013 117.5267 \nL 239.435007 117.5267 \nz\n\" style=\"fill:#ff7f0e;\"/>\n   </g>\n   <g id=\"patch_19\">\n    <path clip-path=\"url(#p53836cd3fb)\" d=\"M 270.492521 224.64 \nL 282.915526 224.64 \nL 282.915526 224.64 \nL 270.492521 224.64 \nz\n\" style=\"fill:#ff7f0e;\"/>\n   </g>\n   <g id=\"patch_20\">\n    <path clip-path=\"url(#p53836cd3fb)\" d=\"M 301.550035 224.64 \nL 313.97304 224.64 \nL 313.97304 210.358227 \nL 301.550035 210.358227 \nz\n\" style=\"fill:#ff7f0e;\"/>\n   </g>\n   <g id=\"patch_21\">\n    <path clip-path=\"url(#p53836cd3fb)\" d=\"M 332.607549 224.64 \nL 345.030554 224.64 \nL 345.030554 224.64 \nL 332.607549 224.64 \nz\n\" style=\"fill:#ff7f0e;\"/>\n   </g>\n   <g id=\"patch_22\">\n    <path clip-path=\"url(#p53836cd3fb)\" d=\"M 363.665063 224.64 \nL 376.088068 224.64 \nL 376.088068 221.069557 \nL 363.665063 221.069557 \nz\n\" style=\"fill:#ff7f0e;\"/>\n   </g>\n   <g id=\"matplotlib.axis_1\">\n    <g id=\"xtick_1\">\n     <g id=\"line2d_1\">\n      <defs>\n       <path d=\"M 0 0 \nL 0 3.5 \n\" id=\"me419f6d36e\" style=\"stroke:#000000;stroke-width:0.8;\"/>\n      </defs>\n      <g>\n       <use style=\"stroke:#000000;stroke-width:0.8;\" x=\"66.153798\" xlink:href=\"#me419f6d36e\" y=\"224.64\"/>\n      </g>\n     </g>\n     <g id=\"text_1\">\n      <!-- 0 -->\n      <defs>\n       <path d=\"M 31.78125 66.40625 \nQ 24.171875 66.40625 20.328125 58.90625 \nQ 16.5 51.421875 16.5 36.375 \nQ 16.5 21.390625 20.328125 13.890625 \nQ 24.171875 6.390625 31.78125 6.390625 \nQ 39.453125 6.390625 43.28125 13.890625 \nQ 47.125 21.390625 47.125 36.375 \nQ 47.125 51.421875 43.28125 58.90625 \nQ 39.453125 66.40625 31.78125 66.40625 \nz\nM 31.78125 74.21875 \nQ 44.046875 74.21875 50.515625 64.515625 \nQ 56.984375 54.828125 56.984375 36.375 \nQ 56.984375 17.96875 50.515625 8.265625 \nQ 44.046875 -1.421875 31.78125 -1.421875 \nQ 19.53125 -1.421875 13.0625 8.265625 \nQ 6.59375 17.96875 6.59375 36.375 \nQ 6.59375 54.828125 13.0625 64.515625 \nQ 19.53125 74.21875 31.78125 74.21875 \nz\n\" id=\"DejaVuSans-48\"/>\n      </defs>\n      <g transform=\"translate(62.972548 239.238437)scale(0.1 -0.1)\">\n       <use xlink:href=\"#DejaVuSans-48\"/>\n      </g>\n     </g>\n    </g>\n    <g id=\"xtick_2\">\n     <g id=\"line2d_2\">\n      <g>\n       <use style=\"stroke:#000000;stroke-width:0.8;\" x=\"115.45144\" xlink:href=\"#me419f6d36e\" y=\"224.64\"/>\n      </g>\n     </g>\n     <g id=\"text_2\">\n      <!-- 20 -->\n      <defs>\n       <path d=\"M 19.1875 8.296875 \nL 53.609375 8.296875 \nL 53.609375 0 \nL 7.328125 0 \nL 7.328125 8.296875 \nQ 12.9375 14.109375 22.625 23.890625 \nQ 32.328125 33.6875 34.8125 36.53125 \nQ 39.546875 41.84375 41.421875 45.53125 \nQ 43.3125 49.21875 43.3125 52.78125 \nQ 43.3125 58.59375 39.234375 62.25 \nQ 35.15625 65.921875 28.609375 65.921875 \nQ 23.96875 65.921875 18.8125 64.3125 \nQ 13.671875 62.703125 7.8125 59.421875 \nL 7.8125 69.390625 \nQ 13.765625 71.78125 18.9375 73 \nQ 24.125 74.21875 28.421875 74.21875 \nQ 39.75 74.21875 46.484375 68.546875 \nQ 53.21875 62.890625 53.21875 53.421875 \nQ 53.21875 48.921875 51.53125 44.890625 \nQ 49.859375 40.875 45.40625 35.40625 \nQ 44.1875 33.984375 37.640625 27.21875 \nQ 31.109375 20.453125 19.1875 8.296875 \nz\n\" id=\"DejaVuSans-50\"/>\n      </defs>\n      <g transform=\"translate(109.08894 239.238437)scale(0.1 -0.1)\">\n       <use xlink:href=\"#DejaVuSans-50\"/>\n       <use x=\"63.623047\" xlink:href=\"#DejaVuSans-48\"/>\n      </g>\n     </g>\n    </g>\n    <g id=\"xtick_3\">\n     <g id=\"line2d_3\">\n      <g>\n       <use style=\"stroke:#000000;stroke-width:0.8;\" x=\"164.749081\" xlink:href=\"#me419f6d36e\" y=\"224.64\"/>\n      </g>\n     </g>\n     <g id=\"text_3\">\n      <!-- 40 -->\n      <defs>\n       <path d=\"M 37.796875 64.3125 \nL 12.890625 25.390625 \nL 37.796875 25.390625 \nz\nM 35.203125 72.90625 \nL 47.609375 72.90625 \nL 47.609375 25.390625 \nL 58.015625 25.390625 \nL 58.015625 17.1875 \nL 47.609375 17.1875 \nL 47.609375 0 \nL 37.796875 0 \nL 37.796875 17.1875 \nL 4.890625 17.1875 \nL 4.890625 26.703125 \nz\n\" id=\"DejaVuSans-52\"/>\n      </defs>\n      <g transform=\"translate(158.386581 239.238437)scale(0.1 -0.1)\">\n       <use xlink:href=\"#DejaVuSans-52\"/>\n       <use x=\"63.623047\" xlink:href=\"#DejaVuSans-48\"/>\n      </g>\n     </g>\n    </g>\n    <g id=\"xtick_4\">\n     <g id=\"line2d_4\">\n      <g>\n       <use style=\"stroke:#000000;stroke-width:0.8;\" x=\"214.046722\" xlink:href=\"#me419f6d36e\" y=\"224.64\"/>\n      </g>\n     </g>\n     <g id=\"text_4\">\n      <!-- 60 -->\n      <defs>\n       <path d=\"M 33.015625 40.375 \nQ 26.375 40.375 22.484375 35.828125 \nQ 18.609375 31.296875 18.609375 23.390625 \nQ 18.609375 15.53125 22.484375 10.953125 \nQ 26.375 6.390625 33.015625 6.390625 \nQ 39.65625 6.390625 43.53125 10.953125 \nQ 47.40625 15.53125 47.40625 23.390625 \nQ 47.40625 31.296875 43.53125 35.828125 \nQ 39.65625 40.375 33.015625 40.375 \nz\nM 52.59375 71.296875 \nL 52.59375 62.3125 \nQ 48.875 64.0625 45.09375 64.984375 \nQ 41.3125 65.921875 37.59375 65.921875 \nQ 27.828125 65.921875 22.671875 59.328125 \nQ 17.53125 52.734375 16.796875 39.40625 \nQ 19.671875 43.65625 24.015625 45.921875 \nQ 28.375 48.1875 33.59375 48.1875 \nQ 44.578125 48.1875 50.953125 41.515625 \nQ 57.328125 34.859375 57.328125 23.390625 \nQ 57.328125 12.15625 50.6875 5.359375 \nQ 44.046875 -1.421875 33.015625 -1.421875 \nQ 20.359375 -1.421875 13.671875 8.265625 \nQ 6.984375 17.96875 6.984375 36.375 \nQ 6.984375 53.65625 15.1875 63.9375 \nQ 23.390625 74.21875 37.203125 74.21875 \nQ 40.921875 74.21875 44.703125 73.484375 \nQ 48.484375 72.75 52.59375 71.296875 \nz\n\" id=\"DejaVuSans-54\"/>\n      </defs>\n      <g transform=\"translate(207.684222 239.238437)scale(0.1 -0.1)\">\n       <use xlink:href=\"#DejaVuSans-54\"/>\n       <use x=\"63.623047\" xlink:href=\"#DejaVuSans-48\"/>\n      </g>\n     </g>\n    </g>\n    <g id=\"xtick_5\">\n     <g id=\"line2d_5\">\n      <g>\n       <use style=\"stroke:#000000;stroke-width:0.8;\" x=\"263.344363\" xlink:href=\"#me419f6d36e\" y=\"224.64\"/>\n      </g>\n     </g>\n     <g id=\"text_5\">\n      <!-- 80 -->\n      <defs>\n       <path d=\"M 31.78125 34.625 \nQ 24.75 34.625 20.71875 30.859375 \nQ 16.703125 27.09375 16.703125 20.515625 \nQ 16.703125 13.921875 20.71875 10.15625 \nQ 24.75 6.390625 31.78125 6.390625 \nQ 38.8125 6.390625 42.859375 10.171875 \nQ 46.921875 13.96875 46.921875 20.515625 \nQ 46.921875 27.09375 42.890625 30.859375 \nQ 38.875 34.625 31.78125 34.625 \nz\nM 21.921875 38.8125 \nQ 15.578125 40.375 12.03125 44.71875 \nQ 8.5 49.078125 8.5 55.328125 \nQ 8.5 64.0625 14.71875 69.140625 \nQ 20.953125 74.21875 31.78125 74.21875 \nQ 42.671875 74.21875 48.875 69.140625 \nQ 55.078125 64.0625 55.078125 55.328125 \nQ 55.078125 49.078125 51.53125 44.71875 \nQ 48 40.375 41.703125 38.8125 \nQ 48.828125 37.15625 52.796875 32.3125 \nQ 56.78125 27.484375 56.78125 20.515625 \nQ 56.78125 9.90625 50.3125 4.234375 \nQ 43.84375 -1.421875 31.78125 -1.421875 \nQ 19.734375 -1.421875 13.25 4.234375 \nQ 6.78125 9.90625 6.78125 20.515625 \nQ 6.78125 27.484375 10.78125 32.3125 \nQ 14.796875 37.15625 21.921875 38.8125 \nz\nM 18.3125 54.390625 \nQ 18.3125 48.734375 21.84375 45.5625 \nQ 25.390625 42.390625 31.78125 42.390625 \nQ 38.140625 42.390625 41.71875 45.5625 \nQ 45.3125 48.734375 45.3125 54.390625 \nQ 45.3125 60.0625 41.71875 63.234375 \nQ 38.140625 66.40625 31.78125 66.40625 \nQ 25.390625 66.40625 21.84375 63.234375 \nQ 18.3125 60.0625 18.3125 54.390625 \nz\n\" id=\"DejaVuSans-56\"/>\n      </defs>\n      <g transform=\"translate(256.981863 239.238437)scale(0.1 -0.1)\">\n       <use xlink:href=\"#DejaVuSans-56\"/>\n       <use x=\"63.623047\" xlink:href=\"#DejaVuSans-48\"/>\n      </g>\n     </g>\n    </g>\n    <g id=\"xtick_6\">\n     <g id=\"line2d_6\">\n      <g>\n       <use style=\"stroke:#000000;stroke-width:0.8;\" x=\"312.642004\" xlink:href=\"#me419f6d36e\" y=\"224.64\"/>\n      </g>\n     </g>\n     <g id=\"text_6\">\n      <!-- 100 -->\n      <defs>\n       <path d=\"M 12.40625 8.296875 \nL 28.515625 8.296875 \nL 28.515625 63.921875 \nL 10.984375 60.40625 \nL 10.984375 69.390625 \nL 28.421875 72.90625 \nL 38.28125 72.90625 \nL 38.28125 8.296875 \nL 54.390625 8.296875 \nL 54.390625 0 \nL 12.40625 0 \nz\n\" id=\"DejaVuSans-49\"/>\n      </defs>\n      <g transform=\"translate(303.098254 239.238437)scale(0.1 -0.1)\">\n       <use xlink:href=\"#DejaVuSans-49\"/>\n       <use x=\"63.623047\" xlink:href=\"#DejaVuSans-48\"/>\n       <use x=\"127.246094\" xlink:href=\"#DejaVuSans-48\"/>\n      </g>\n     </g>\n    </g>\n    <g id=\"xtick_7\">\n     <g id=\"line2d_7\">\n      <g>\n       <use style=\"stroke:#000000;stroke-width:0.8;\" x=\"361.939645\" xlink:href=\"#me419f6d36e\" y=\"224.64\"/>\n      </g>\n     </g>\n     <g id=\"text_7\">\n      <!-- 120 -->\n      <g transform=\"translate(352.395895 239.238437)scale(0.1 -0.1)\">\n       <use xlink:href=\"#DejaVuSans-49\"/>\n       <use x=\"63.623047\" xlink:href=\"#DejaVuSans-50\"/>\n       <use x=\"127.246094\" xlink:href=\"#DejaVuSans-48\"/>\n      </g>\n     </g>\n    </g>\n    <g id=\"text_8\">\n     <!-- Number of Monomers -->\n     <defs>\n      <path d=\"M 9.8125 72.90625 \nL 23.09375 72.90625 \nL 55.421875 11.921875 \nL 55.421875 72.90625 \nL 64.984375 72.90625 \nL 64.984375 0 \nL 51.703125 0 \nL 19.390625 60.984375 \nL 19.390625 0 \nL 9.8125 0 \nz\n\" id=\"DejaVuSans-78\"/>\n      <path d=\"M 8.5 21.578125 \nL 8.5 54.6875 \nL 17.484375 54.6875 \nL 17.484375 21.921875 \nQ 17.484375 14.15625 20.5 10.265625 \nQ 23.53125 6.390625 29.59375 6.390625 \nQ 36.859375 6.390625 41.078125 11.03125 \nQ 45.3125 15.671875 45.3125 23.6875 \nL 45.3125 54.6875 \nL 54.296875 54.6875 \nL 54.296875 0 \nL 45.3125 0 \nL 45.3125 8.40625 \nQ 42.046875 3.421875 37.71875 1 \nQ 33.40625 -1.421875 27.6875 -1.421875 \nQ 18.265625 -1.421875 13.375 4.4375 \nQ 8.5 10.296875 8.5 21.578125 \nz\nM 31.109375 56 \nz\n\" id=\"DejaVuSans-117\"/>\n      <path d=\"M 52 44.1875 \nQ 55.375 50.25 60.0625 53.125 \nQ 64.75 56 71.09375 56 \nQ 79.640625 56 84.28125 50.015625 \nQ 88.921875 44.046875 88.921875 33.015625 \nL 88.921875 0 \nL 79.890625 0 \nL 79.890625 32.71875 \nQ 79.890625 40.578125 77.09375 44.375 \nQ 74.3125 48.1875 68.609375 48.1875 \nQ 61.625 48.1875 57.5625 43.546875 \nQ 53.515625 38.921875 53.515625 30.90625 \nL 53.515625 0 \nL 44.484375 0 \nL 44.484375 32.71875 \nQ 44.484375 40.625 41.703125 44.40625 \nQ 38.921875 48.1875 33.109375 48.1875 \nQ 26.21875 48.1875 22.15625 43.53125 \nQ 18.109375 38.875 18.109375 30.90625 \nL 18.109375 0 \nL 9.078125 0 \nL 9.078125 54.6875 \nL 18.109375 54.6875 \nL 18.109375 46.1875 \nQ 21.1875 51.21875 25.484375 53.609375 \nQ 29.78125 56 35.6875 56 \nQ 41.65625 56 45.828125 52.96875 \nQ 50 49.953125 52 44.1875 \nz\n\" id=\"DejaVuSans-109\"/>\n      <path d=\"M 48.6875 27.296875 \nQ 48.6875 37.203125 44.609375 42.84375 \nQ 40.53125 48.484375 33.40625 48.484375 \nQ 26.265625 48.484375 22.1875 42.84375 \nQ 18.109375 37.203125 18.109375 27.296875 \nQ 18.109375 17.390625 22.1875 11.75 \nQ 26.265625 6.109375 33.40625 6.109375 \nQ 40.53125 6.109375 44.609375 11.75 \nQ 48.6875 17.390625 48.6875 27.296875 \nz\nM 18.109375 46.390625 \nQ 20.953125 51.265625 25.265625 53.625 \nQ 29.59375 56 35.59375 56 \nQ 45.5625 56 51.78125 48.09375 \nQ 58.015625 40.1875 58.015625 27.296875 \nQ 58.015625 14.40625 51.78125 6.484375 \nQ 45.5625 -1.421875 35.59375 -1.421875 \nQ 29.59375 -1.421875 25.265625 0.953125 \nQ 20.953125 3.328125 18.109375 8.203125 \nL 18.109375 0 \nL 9.078125 0 \nL 9.078125 75.984375 \nL 18.109375 75.984375 \nz\n\" id=\"DejaVuSans-98\"/>\n      <path d=\"M 56.203125 29.59375 \nL 56.203125 25.203125 \nL 14.890625 25.203125 \nQ 15.484375 15.921875 20.484375 11.0625 \nQ 25.484375 6.203125 34.421875 6.203125 \nQ 39.59375 6.203125 44.453125 7.46875 \nQ 49.3125 8.734375 54.109375 11.28125 \nL 54.109375 2.78125 \nQ 49.265625 0.734375 44.1875 -0.34375 \nQ 39.109375 -1.421875 33.890625 -1.421875 \nQ 20.796875 -1.421875 13.15625 6.1875 \nQ 5.515625 13.8125 5.515625 26.8125 \nQ 5.515625 40.234375 12.765625 48.109375 \nQ 20.015625 56 32.328125 56 \nQ 43.359375 56 49.78125 48.890625 \nQ 56.203125 41.796875 56.203125 29.59375 \nz\nM 47.21875 32.234375 \nQ 47.125 39.59375 43.09375 43.984375 \nQ 39.0625 48.390625 32.421875 48.390625 \nQ 24.90625 48.390625 20.390625 44.140625 \nQ 15.875 39.890625 15.1875 32.171875 \nz\n\" id=\"DejaVuSans-101\"/>\n      <path d=\"M 41.109375 46.296875 \nQ 39.59375 47.171875 37.8125 47.578125 \nQ 36.03125 48 33.890625 48 \nQ 26.265625 48 22.1875 43.046875 \nQ 18.109375 38.09375 18.109375 28.8125 \nL 18.109375 0 \nL 9.078125 0 \nL 9.078125 54.6875 \nL 18.109375 54.6875 \nL 18.109375 46.1875 \nQ 20.953125 51.171875 25.484375 53.578125 \nQ 30.03125 56 36.53125 56 \nQ 37.453125 56 38.578125 55.875 \nQ 39.703125 55.765625 41.0625 55.515625 \nz\n\" id=\"DejaVuSans-114\"/>\n      <path id=\"DejaVuSans-32\"/>\n      <path d=\"M 30.609375 48.390625 \nQ 23.390625 48.390625 19.1875 42.75 \nQ 14.984375 37.109375 14.984375 27.296875 \nQ 14.984375 17.484375 19.15625 11.84375 \nQ 23.34375 6.203125 30.609375 6.203125 \nQ 37.796875 6.203125 41.984375 11.859375 \nQ 46.1875 17.53125 46.1875 27.296875 \nQ 46.1875 37.015625 41.984375 42.703125 \nQ 37.796875 48.390625 30.609375 48.390625 \nz\nM 30.609375 56 \nQ 42.328125 56 49.015625 48.375 \nQ 55.71875 40.765625 55.71875 27.296875 \nQ 55.71875 13.875 49.015625 6.21875 \nQ 42.328125 -1.421875 30.609375 -1.421875 \nQ 18.84375 -1.421875 12.171875 6.21875 \nQ 5.515625 13.875 5.515625 27.296875 \nQ 5.515625 40.765625 12.171875 48.375 \nQ 18.84375 56 30.609375 56 \nz\n\" id=\"DejaVuSans-111\"/>\n      <path d=\"M 37.109375 75.984375 \nL 37.109375 68.5 \nL 28.515625 68.5 \nQ 23.6875 68.5 21.796875 66.546875 \nQ 19.921875 64.59375 19.921875 59.515625 \nL 19.921875 54.6875 \nL 34.71875 54.6875 \nL 34.71875 47.703125 \nL 19.921875 47.703125 \nL 19.921875 0 \nL 10.890625 0 \nL 10.890625 47.703125 \nL 2.296875 47.703125 \nL 2.296875 54.6875 \nL 10.890625 54.6875 \nL 10.890625 58.5 \nQ 10.890625 67.625 15.140625 71.796875 \nQ 19.390625 75.984375 28.609375 75.984375 \nz\n\" id=\"DejaVuSans-102\"/>\n      <path d=\"M 9.8125 72.90625 \nL 24.515625 72.90625 \nL 43.109375 23.296875 \nL 61.8125 72.90625 \nL 76.515625 72.90625 \nL 76.515625 0 \nL 66.890625 0 \nL 66.890625 64.015625 \nL 48.09375 14.015625 \nL 38.1875 14.015625 \nL 19.390625 64.015625 \nL 19.390625 0 \nL 9.8125 0 \nz\n\" id=\"DejaVuSans-77\"/>\n      <path d=\"M 54.890625 33.015625 \nL 54.890625 0 \nL 45.90625 0 \nL 45.90625 32.71875 \nQ 45.90625 40.484375 42.875 44.328125 \nQ 39.84375 48.1875 33.796875 48.1875 \nQ 26.515625 48.1875 22.3125 43.546875 \nQ 18.109375 38.921875 18.109375 30.90625 \nL 18.109375 0 \nL 9.078125 0 \nL 9.078125 54.6875 \nL 18.109375 54.6875 \nL 18.109375 46.1875 \nQ 21.34375 51.125 25.703125 53.5625 \nQ 30.078125 56 35.796875 56 \nQ 45.21875 56 50.046875 50.171875 \nQ 54.890625 44.34375 54.890625 33.015625 \nz\n\" id=\"DejaVuSans-110\"/>\n      <path d=\"M 44.28125 53.078125 \nL 44.28125 44.578125 \nQ 40.484375 46.53125 36.375 47.5 \nQ 32.28125 48.484375 27.875 48.484375 \nQ 21.1875 48.484375 17.84375 46.4375 \nQ 14.5 44.390625 14.5 40.28125 \nQ 14.5 37.15625 16.890625 35.375 \nQ 19.28125 33.59375 26.515625 31.984375 \nL 29.59375 31.296875 \nQ 39.15625 29.25 43.1875 25.515625 \nQ 47.21875 21.78125 47.21875 15.09375 \nQ 47.21875 7.46875 41.1875 3.015625 \nQ 35.15625 -1.421875 24.609375 -1.421875 \nQ 20.21875 -1.421875 15.453125 -0.5625 \nQ 10.6875 0.296875 5.421875 2 \nL 5.421875 11.28125 \nQ 10.40625 8.6875 15.234375 7.390625 \nQ 20.0625 6.109375 24.8125 6.109375 \nQ 31.15625 6.109375 34.5625 8.28125 \nQ 37.984375 10.453125 37.984375 14.40625 \nQ 37.984375 18.0625 35.515625 20.015625 \nQ 33.0625 21.96875 24.703125 23.78125 \nL 21.578125 24.515625 \nQ 13.234375 26.265625 9.515625 29.90625 \nQ 5.8125 33.546875 5.8125 39.890625 \nQ 5.8125 47.609375 11.28125 51.796875 \nQ 16.75 56 26.8125 56 \nQ 31.78125 56 36.171875 55.265625 \nQ 40.578125 54.546875 44.28125 53.078125 \nz\n\" id=\"DejaVuSans-115\"/>\n     </defs>\n     <g transform=\"translate(169.614062 252.916562)scale(0.1 -0.1)\">\n      <use xlink:href=\"#DejaVuSans-78\"/>\n      <use x=\"74.804688\" xlink:href=\"#DejaVuSans-117\"/>\n      <use x=\"138.183594\" xlink:href=\"#DejaVuSans-109\"/>\n      <use x=\"235.595703\" xlink:href=\"#DejaVuSans-98\"/>\n      <use x=\"299.072266\" xlink:href=\"#DejaVuSans-101\"/>\n      <use x=\"360.595703\" xlink:href=\"#DejaVuSans-114\"/>\n      <use x=\"401.708984\" xlink:href=\"#DejaVuSans-32\"/>\n      <use x=\"433.496094\" xlink:href=\"#DejaVuSans-111\"/>\n      <use x=\"494.677734\" xlink:href=\"#DejaVuSans-102\"/>\n      <use x=\"529.882812\" xlink:href=\"#DejaVuSans-32\"/>\n      <use x=\"561.669922\" xlink:href=\"#DejaVuSans-77\"/>\n      <use x=\"647.949219\" xlink:href=\"#DejaVuSans-111\"/>\n      <use x=\"709.130859\" xlink:href=\"#DejaVuSans-110\"/>\n      <use x=\"772.509766\" xlink:href=\"#DejaVuSans-111\"/>\n      <use x=\"833.691406\" xlink:href=\"#DejaVuSans-109\"/>\n      <use x=\"931.103516\" xlink:href=\"#DejaVuSans-101\"/>\n      <use x=\"992.626953\" xlink:href=\"#DejaVuSans-114\"/>\n      <use x=\"1033.740234\" xlink:href=\"#DejaVuSans-115\"/>\n     </g>\n    </g>\n   </g>\n   <g id=\"matplotlib.axis_2\">\n    <g id=\"ytick_1\">\n     <g id=\"line2d_8\">\n      <defs>\n       <path d=\"M 0 0 \nL -3.5 0 \n\" id=\"mcc6bc9ee1c\" style=\"stroke:#000000;stroke-width:0.8;\"/>\n      </defs>\n      <g>\n       <use style=\"stroke:#000000;stroke-width:0.8;\" x=\"56.50625\" xlink:href=\"#mcc6bc9ee1c\" y=\"224.64\"/>\n      </g>\n     </g>\n     <g id=\"text_9\">\n      <!-- 0.000 -->\n      <defs>\n       <path d=\"M 10.6875 12.40625 \nL 21 12.40625 \nL 21 0 \nL 10.6875 0 \nz\n\" id=\"DejaVuSans-46\"/>\n      </defs>\n      <g transform=\"translate(20.878125 228.439219)scale(0.1 -0.1)\">\n       <use xlink:href=\"#DejaVuSans-48\"/>\n       <use x=\"63.623047\" xlink:href=\"#DejaVuSans-46\"/>\n       <use x=\"95.410156\" xlink:href=\"#DejaVuSans-48\"/>\n       <use x=\"159.033203\" xlink:href=\"#DejaVuSans-48\"/>\n       <use x=\"222.65625\" xlink:href=\"#DejaVuSans-48\"/>\n      </g>\n     </g>\n    </g>\n    <g id=\"ytick_2\">\n     <g id=\"line2d_9\">\n      <g>\n       <use style=\"stroke:#000000;stroke-width:0.8;\" x=\"56.50625\" xlink:href=\"#mcc6bc9ee1c\" y=\"183.926234\"/>\n      </g>\n     </g>\n     <g id=\"text_10\">\n      <!-- 0.005 -->\n      <defs>\n       <path d=\"M 10.796875 72.90625 \nL 49.515625 72.90625 \nL 49.515625 64.59375 \nL 19.828125 64.59375 \nL 19.828125 46.734375 \nQ 21.96875 47.46875 24.109375 47.828125 \nQ 26.265625 48.1875 28.421875 48.1875 \nQ 40.625 48.1875 47.75 41.5 \nQ 54.890625 34.8125 54.890625 23.390625 \nQ 54.890625 11.625 47.5625 5.09375 \nQ 40.234375 -1.421875 26.90625 -1.421875 \nQ 22.3125 -1.421875 17.546875 -0.640625 \nQ 12.796875 0.140625 7.71875 1.703125 \nL 7.71875 11.625 \nQ 12.109375 9.234375 16.796875 8.0625 \nQ 21.484375 6.890625 26.703125 6.890625 \nQ 35.15625 6.890625 40.078125 11.328125 \nQ 45.015625 15.765625 45.015625 23.390625 \nQ 45.015625 31 40.078125 35.4375 \nQ 35.15625 39.890625 26.703125 39.890625 \nQ 22.75 39.890625 18.8125 39.015625 \nQ 14.890625 38.140625 10.796875 36.28125 \nz\n\" id=\"DejaVuSans-53\"/>\n      </defs>\n      <g transform=\"translate(20.878125 187.725453)scale(0.1 -0.1)\">\n       <use xlink:href=\"#DejaVuSans-48\"/>\n       <use x=\"63.623047\" xlink:href=\"#DejaVuSans-46\"/>\n       <use x=\"95.410156\" xlink:href=\"#DejaVuSans-48\"/>\n       <use x=\"159.033203\" xlink:href=\"#DejaVuSans-48\"/>\n       <use x=\"222.65625\" xlink:href=\"#DejaVuSans-53\"/>\n      </g>\n     </g>\n    </g>\n    <g id=\"ytick_3\">\n     <g id=\"line2d_10\">\n      <g>\n       <use style=\"stroke:#000000;stroke-width:0.8;\" x=\"56.50625\" xlink:href=\"#mcc6bc9ee1c\" y=\"143.212469\"/>\n      </g>\n     </g>\n     <g id=\"text_11\">\n      <!-- 0.010 -->\n      <g transform=\"translate(20.878125 147.011688)scale(0.1 -0.1)\">\n       <use xlink:href=\"#DejaVuSans-48\"/>\n       <use x=\"63.623047\" xlink:href=\"#DejaVuSans-46\"/>\n       <use x=\"95.410156\" xlink:href=\"#DejaVuSans-48\"/>\n       <use x=\"159.033203\" xlink:href=\"#DejaVuSans-49\"/>\n       <use x=\"222.65625\" xlink:href=\"#DejaVuSans-48\"/>\n      </g>\n     </g>\n    </g>\n    <g id=\"ytick_4\">\n     <g id=\"line2d_11\">\n      <g>\n       <use style=\"stroke:#000000;stroke-width:0.8;\" x=\"56.50625\" xlink:href=\"#mcc6bc9ee1c\" y=\"102.498703\"/>\n      </g>\n     </g>\n     <g id=\"text_12\">\n      <!-- 0.015 -->\n      <g transform=\"translate(20.878125 106.297922)scale(0.1 -0.1)\">\n       <use xlink:href=\"#DejaVuSans-48\"/>\n       <use x=\"63.623047\" xlink:href=\"#DejaVuSans-46\"/>\n       <use x=\"95.410156\" xlink:href=\"#DejaVuSans-48\"/>\n       <use x=\"159.033203\" xlink:href=\"#DejaVuSans-49\"/>\n       <use x=\"222.65625\" xlink:href=\"#DejaVuSans-53\"/>\n      </g>\n     </g>\n    </g>\n    <g id=\"ytick_5\">\n     <g id=\"line2d_12\">\n      <g>\n       <use style=\"stroke:#000000;stroke-width:0.8;\" x=\"56.50625\" xlink:href=\"#mcc6bc9ee1c\" y=\"61.784938\"/>\n      </g>\n     </g>\n     <g id=\"text_13\">\n      <!-- 0.020 -->\n      <g transform=\"translate(20.878125 65.584157)scale(0.1 -0.1)\">\n       <use xlink:href=\"#DejaVuSans-48\"/>\n       <use x=\"63.623047\" xlink:href=\"#DejaVuSans-46\"/>\n       <use x=\"95.410156\" xlink:href=\"#DejaVuSans-48\"/>\n       <use x=\"159.033203\" xlink:href=\"#DejaVuSans-50\"/>\n       <use x=\"222.65625\" xlink:href=\"#DejaVuSans-48\"/>\n      </g>\n     </g>\n    </g>\n    <g id=\"ytick_6\">\n     <g id=\"line2d_13\">\n      <g>\n       <use style=\"stroke:#000000;stroke-width:0.8;\" x=\"56.50625\" xlink:href=\"#mcc6bc9ee1c\" y=\"21.071172\"/>\n      </g>\n     </g>\n     <g id=\"text_14\">\n      <!-- 0.025 -->\n      <g transform=\"translate(20.878125 24.870391)scale(0.1 -0.1)\">\n       <use xlink:href=\"#DejaVuSans-48\"/>\n       <use x=\"63.623047\" xlink:href=\"#DejaVuSans-46\"/>\n       <use x=\"95.410156\" xlink:href=\"#DejaVuSans-48\"/>\n       <use x=\"159.033203\" xlink:href=\"#DejaVuSans-50\"/>\n       <use x=\"222.65625\" xlink:href=\"#DejaVuSans-53\"/>\n      </g>\n     </g>\n    </g>\n    <g id=\"text_15\">\n     <!-- Probability -->\n     <defs>\n      <path d=\"M 19.671875 64.796875 \nL 19.671875 37.40625 \nL 32.078125 37.40625 \nQ 38.96875 37.40625 42.71875 40.96875 \nQ 46.484375 44.53125 46.484375 51.125 \nQ 46.484375 57.671875 42.71875 61.234375 \nQ 38.96875 64.796875 32.078125 64.796875 \nz\nM 9.8125 72.90625 \nL 32.078125 72.90625 \nQ 44.34375 72.90625 50.609375 67.359375 \nQ 56.890625 61.8125 56.890625 51.125 \nQ 56.890625 40.328125 50.609375 34.8125 \nQ 44.34375 29.296875 32.078125 29.296875 \nL 19.671875 29.296875 \nL 19.671875 0 \nL 9.8125 0 \nz\n\" id=\"DejaVuSans-80\"/>\n      <path d=\"M 34.28125 27.484375 \nQ 23.390625 27.484375 19.1875 25 \nQ 14.984375 22.515625 14.984375 16.5 \nQ 14.984375 11.71875 18.140625 8.90625 \nQ 21.296875 6.109375 26.703125 6.109375 \nQ 34.1875 6.109375 38.703125 11.40625 \nQ 43.21875 16.703125 43.21875 25.484375 \nL 43.21875 27.484375 \nz\nM 52.203125 31.203125 \nL 52.203125 0 \nL 43.21875 0 \nL 43.21875 8.296875 \nQ 40.140625 3.328125 35.546875 0.953125 \nQ 30.953125 -1.421875 24.3125 -1.421875 \nQ 15.921875 -1.421875 10.953125 3.296875 \nQ 6 8.015625 6 15.921875 \nQ 6 25.140625 12.171875 29.828125 \nQ 18.359375 34.515625 30.609375 34.515625 \nL 43.21875 34.515625 \nL 43.21875 35.40625 \nQ 43.21875 41.609375 39.140625 45 \nQ 35.0625 48.390625 27.6875 48.390625 \nQ 23 48.390625 18.546875 47.265625 \nQ 14.109375 46.140625 10.015625 43.890625 \nL 10.015625 52.203125 \nQ 14.9375 54.109375 19.578125 55.046875 \nQ 24.21875 56 28.609375 56 \nQ 40.484375 56 46.34375 49.84375 \nQ 52.203125 43.703125 52.203125 31.203125 \nz\n\" id=\"DejaVuSans-97\"/>\n      <path d=\"M 9.421875 54.6875 \nL 18.40625 54.6875 \nL 18.40625 0 \nL 9.421875 0 \nz\nM 9.421875 75.984375 \nL 18.40625 75.984375 \nL 18.40625 64.59375 \nL 9.421875 64.59375 \nz\n\" id=\"DejaVuSans-105\"/>\n      <path d=\"M 9.421875 75.984375 \nL 18.40625 75.984375 \nL 18.40625 0 \nL 9.421875 0 \nz\n\" id=\"DejaVuSans-108\"/>\n      <path d=\"M 18.3125 70.21875 \nL 18.3125 54.6875 \nL 36.8125 54.6875 \nL 36.8125 47.703125 \nL 18.3125 47.703125 \nL 18.3125 18.015625 \nQ 18.3125 11.328125 20.140625 9.421875 \nQ 21.96875 7.515625 27.59375 7.515625 \nL 36.8125 7.515625 \nL 36.8125 0 \nL 27.59375 0 \nQ 17.1875 0 13.234375 3.875 \nQ 9.28125 7.765625 9.28125 18.015625 \nL 9.28125 47.703125 \nL 2.6875 47.703125 \nL 2.6875 54.6875 \nL 9.28125 54.6875 \nL 9.28125 70.21875 \nz\n\" id=\"DejaVuSans-116\"/>\n      <path d=\"M 32.171875 -5.078125 \nQ 28.375 -14.84375 24.75 -17.8125 \nQ 21.140625 -20.796875 15.09375 -20.796875 \nL 7.90625 -20.796875 \nL 7.90625 -13.28125 \nL 13.1875 -13.28125 \nQ 16.890625 -13.28125 18.9375 -11.515625 \nQ 21 -9.765625 23.484375 -3.21875 \nL 25.09375 0.875 \nL 2.984375 54.6875 \nL 12.5 54.6875 \nL 29.59375 11.921875 \nL 46.6875 54.6875 \nL 56.203125 54.6875 \nz\n\" id=\"DejaVuSans-121\"/>\n     </defs>\n     <g transform=\"translate(14.798437 142.546562)rotate(-90)scale(0.1 -0.1)\">\n      <use xlink:href=\"#DejaVuSans-80\"/>\n      <use x=\"60.287109\" xlink:href=\"#DejaVuSans-114\"/>\n      <use x=\"101.369141\" xlink:href=\"#DejaVuSans-111\"/>\n      <use x=\"162.550781\" xlink:href=\"#DejaVuSans-98\"/>\n      <use x=\"226.027344\" xlink:href=\"#DejaVuSans-97\"/>\n      <use x=\"287.306641\" xlink:href=\"#DejaVuSans-98\"/>\n      <use x=\"350.783203\" xlink:href=\"#DejaVuSans-105\"/>\n      <use x=\"378.566406\" xlink:href=\"#DejaVuSans-108\"/>\n      <use x=\"406.349609\" xlink:href=\"#DejaVuSans-105\"/>\n      <use x=\"434.132812\" xlink:href=\"#DejaVuSans-116\"/>\n      <use x=\"473.341797\" xlink:href=\"#DejaVuSans-121\"/>\n     </g>\n    </g>\n   </g>\n   <g id=\"patch_23\">\n    <path d=\"M 56.50625 224.64 \nL 56.50625 7.2 \n\" style=\"fill:none;stroke:#000000;stroke-linecap:square;stroke-linejoin:miter;stroke-width:0.8;\"/>\n   </g>\n   <g id=\"patch_24\">\n    <path d=\"M 391.30625 224.64 \nL 391.30625 7.2 \n\" style=\"fill:none;stroke:#000000;stroke-linecap:square;stroke-linejoin:miter;stroke-width:0.8;\"/>\n   </g>\n   <g id=\"patch_25\">\n    <path d=\"M 56.50625 224.64 \nL 391.30625 224.64 \n\" style=\"fill:none;stroke:#000000;stroke-linecap:square;stroke-linejoin:miter;stroke-width:0.8;\"/>\n   </g>\n   <g id=\"patch_26\">\n    <path d=\"M 56.50625 7.2 \nL 391.30625 7.2 \n\" style=\"fill:none;stroke:#000000;stroke-linecap:square;stroke-linejoin:miter;stroke-width:0.8;\"/>\n   </g>\n  </g>\n </g>\n <defs>\n  <clipPath id=\"p53836cd3fb\">\n   <rect height=\"217.44\" width=\"334.8\" x=\"56.50625\" y=\"7.2\"/>\n  </clipPath>\n </defs>\n</svg>\n",
      "image/png": "[encoded data removed]"
     },
     "metadata": {
      "needs_background": "light"
     }
    }
   ],
   "source": [
    "fig, ax = plt.subplots()\n",
    "ClstrEns.plot_histogram(ax, frames=[(50, 70, 1), (180, 200, 1)], density=True, maxbins=False)"
   ]
  },
  {
   "cell_type": "code",
   "execution_count": 39,
   "metadata": {},
   "outputs": [
    {
     "output_type": "stream",
     "name": "stdout",
     "text": "0\n1\n2\n3\n4\n5\n6\n7\n8\n9\n10\n11\n12\n13\n14\n15\n16\n17\n18\n19\n20\n21\n22\n23\n24\n25\n26\n27\n28\n29\n30\n31\n32\n33\n34\n35\n36\n37\n38\n39\n40\n41\n42\n43\n44\n45\n46\n47\n48\n49\n50\nCentre of mass: 45.18, 30.05, 45.54\n51\n52\n53\n54\n55\n56\n57\n58\n59\n60\n61\n62\n63\n64\n65\n66\n67\n68\n69\n70\n71\n72\n73\n74\n75\n76\n77\n78\n79\n80\n81\n82\n83\n84\n85\n86\n87\n88\n89\n90\n91\n92\n93\n94\n95\n96\n97\n98\n99\n100\n101\n102\n103\n104\n105\n106\n107\n108\n109\n110\n111\n112\n113\n114\n115\n116\n117\n118\n119\n120\n121\n122\n123\n124\n125\n126\n127\n128\n129\n130\n131\n132\n133\n134\n135\n136\n137\n138\n139\n140\n141\n142\n143\n144\n145\n146\n147\n148\n149\n150\n151\n152\n153\n154\n155\n156\n157\n158\n159\n160\n161\n162\n163\n164\n165\n166\n167\n168\n169\n170\n171\n172\n173\n174\n175\n176\n177\n178\n179\n180\n181\n182\n183\n184\n185\n186\n187\n188\n189\n190\n191\n192\n193\n194\n195\n196\n197\n198\n199\n200\nType of special_cluster: ResidueGroup\nCentre of mass: 40.40, 32.66, 40.25\nCentre of geomety: 40.12, 32.37, 40.24\nRadius of gyration: 37.359\nIds of residues(molecules) in this cluster: \n[  1   2   3   4   6   7  12  17  19  20  30  37  39  43  46  55  56  61\n  62  70  89  97 103 105 110 115 117 119 123 125 133 136 137 139 141 144\n 145 147 149 152 155 158 161 171 174 176 177 178 180 186 189 191 193 195\n 196 197 200 209 213 214 219 220 221 226 230 231 234 245 247 250 251 252\n 253 257 260 264 265 270 272 273 276 278 279 286 287 288 290 294 298 300\n 303 308 309 321 322 324 329 332 336 338 342 348 354 355 358 362 370 374\n 375 377 387 392]\nType of residues(molecules) in this cluster: \n['SDS' 'SDS' 'SDS' 'SDS' 'SDS' 'SDS' 'SDS' 'SDS' 'SDS' 'SDS' 'SDS' 'SDS'\n 'SDS' 'SDS' 'SDS' 'SDS' 'SDS' 'SDS' 'SDS' 'SDS' 'SDS' 'SDS' 'SDS' 'SDS'\n 'SDS' 'SDS' 'SDS' 'SDS' 'SDS' 'SDS' 'SDS' 'SDS' 'SDS' 'SDS' 'SDS' 'SDS'\n 'SDS' 'SDS' 'SDS' 'SDS' 'SDS' 'SDS' 'SDS' 'SDS' 'SDS' 'SDS' 'SDS' 'SDS'\n 'SDS' 'SDS' 'SDS' 'SDS' 'SDS' 'SDS' 'SDS' 'SDS' 'SDS' 'SDS' 'SDS' 'SDS'\n 'SDS' 'SDS' 'SDS' 'SDS' 'SDS' 'SDS' 'SDS' 'SDS' 'SDS' 'SDS' 'SDS' 'SDS'\n 'SDS' 'SDS' 'SDS' 'SDS' 'SDS' 'SDS' 'SDS' 'SDS' 'SDS' 'SDS' 'SDS' 'SDS'\n 'SDS' 'SDS' 'SDS' 'SDS' 'SDS' 'SDS' 'SDS' 'SDS' 'SDS' 'SDS' 'SDS' 'SDS'\n 'SDS' 'SDS' 'SDS' 'SDS' 'SDS' 'SDS' 'SDS' 'SDS' 'SDS' 'SDS' 'SDS' 'SDS'\n 'SDS' 'SDS' 'SDS' 'SDS']\n"
    }
   ],
   "source": [
    "'''\n",
    "In the cluster_list we have all a list of molecules in each cluter.\n",
    "We can therefore calculate all kinds of things with it.\n",
    "'''\n",
    "ClstrEns.universe.trajectory.rewind()\n",
    "n_frame = 50\n",
    "n_cluster = 1\n",
    "for i, this_cluster in enumerate(ClstrEns.cluster_list):\n",
    "    print(i)\n",
    "    if i == n_frame:\n",
    "        special_cluster = this_cluster[n_cluster]\n",
    "        COM = special_cluster.center_of_mass()\n",
    "        print('Centre of mass: {:.2f}, {:.2f}, {:.2f}'.format(*COM))\n",
    "        \n",
    "\n",
    "\n",
    "# A cluster is a Residuegroup, we can use all the methods defined for\n",
    "# Residuegroups\n",
    "print('Type of special_cluster: {:s}'.format(type(special_cluster).__name__))\n",
    "\n",
    "COM = special_cluster.center_of_mass()\n",
    "print('Centre of mass: {:.2f}, {:.2f}, {:.2f}'.format(*COM))\n",
    "print('Centre of geomety: {:.2f}, {:.2f}, {:.2f}'.format(*special_cluster.center_of_geometry()))\n",
    "print('Radius of gyration: {:.3f}'.format(special_cluster.radius_of_gyration()))\n",
    "print('Ids of residues(molecules) in this cluster: ')\n",
    "print(special_cluster.resids)\n",
    "print('Type of residues(molecules) in this cluster: ')\n",
    "print(special_cluster.resnames)\n",
    ""
   ]
  },
  {
   "cell_type": "code",
   "execution_count": 48,
   "metadata": {},
   "outputs": [
    {
     "output_type": "stream",
     "name": "stdout",
     "text": "0\n10\n20\n30\n40\n50\nCentre of mass: 45.18, 30.05, 45.54\nShifting molecule 26 by 0.00, -95.25, 0.00\nShifting molecule 111 by 0.00, -95.25, 0.00\nShifting molecule 60 by 0.00, 0.00, -95.25\nShifting molecule 103 by 0.00, 0.00, -95.25\nShifting molecule 80 by 0.00, 0.00, -95.25\nShifting molecule 89 by 0.00, 0.00, -95.25\nShifting molecule 79 by 0.00, 0.00, -95.25\nShifting molecule 107 by 0.00, 0.00, -95.25\nShifting molecule 33 by 0.00, 0.00, -95.25\nShifting molecule 100 by 0.00, 0.00, -95.25\nShifting molecule 13 by 0.00, 0.00, -95.25\nShifting molecule 86 by 0.00, 0.00, -95.25\nShifting molecule 0 by 0.00, 0.00, -95.25\nShifting molecule 44 by -95.25, 0.00, 0.00\nShifting molecule 39 by -95.25, 0.00, 0.00\nShifting molecule 90 by -95.25, 0.00, 0.00\nShifting molecule 84 by -95.25, 0.00, 0.00\nShifting molecule 38 by -95.25, 0.00, 0.00\nShifting molecule 15 by -95.25, 0.00, 0.00\nShifting molecule 47 by -95.25, 0.00, 0.00\nShifting molecule 51 by -95.25, 0.00, 0.00\nShifting molecule 82 by -95.25, 0.00, 0.00\nShifting molecule 70 by -95.25, 0.00, 0.00\nShifting molecule 55 by -95.25, 0.00, 0.00\nShifting molecule 4 by -95.25, 0.00, 0.00\nShifting molecule 3 by -95.25, 0.00, 0.00\nShifting molecule 52 by -95.25, 0.00, 0.00\nShifting molecule 10 by -95.25, 0.00, 0.00\nShifting molecule 104 by -95.25, 0.00, 0.00\nShifting molecule 87 by -95.25, 0.00, 0.00\nShifting molecule 11 by -95.25, 0.00, 0.00\nShifting molecule 77 by -95.25, 0.00, 0.00\nShifting molecule 35 by -95.25, 0.00, 0.00\nShifting molecule 41 by -95.25, 0.00, 0.00\nShifting molecule 75 by -95.25, 0.00, 0.00\nShifting molecule 88 by -95.25, 0.00, 0.00\nShifting molecule 14 by -95.25, 0.00, 0.00\nShifting molecule 110 by -95.25, 0.00, 0.00\nCentre of mass: 24.82, 26.77, 36.70\n60\n70\n80\n90\n100\n110\n120\n130\n140\n150\n160\n170\n180\n190\n200\nType of special_cluster: ResidueGroup\nCentre of mass: 40.40, 32.66, 40.25\nCentre of geomety: 40.12, 32.37, 40.24\nRadius of gyration: 37.359\nIds of residues(molecules) in this cluster: \n[  1   2   3   4   6   7  12  17  19  20  30  37  39  43  46  55  56  61\n  62  70  89  97 103 105 110 115 117 119 123 125 133 136 137 139 141 144\n 145 147 149 152 155 158 161 171 174 176 177 178 180 186 189 191 193 195\n 196 197 200 209 213 214 219 220 221 226 230 231 234 245 247 250 251 252\n 253 257 260 264 265 270 272 273 276 278 279 286 287 288 290 294 298 300\n 303 308 309 321 322 324 329 332 336 338 342 348 354 355 358 362 370 374\n 375 377 387 392]\nType of residues(molecules) in this cluster: \n['SDS' 'SDS' 'SDS' 'SDS' 'SDS' 'SDS' 'SDS' 'SDS' 'SDS' 'SDS' 'SDS' 'SDS'\n 'SDS' 'SDS' 'SDS' 'SDS' 'SDS' 'SDS' 'SDS' 'SDS' 'SDS' 'SDS' 'SDS' 'SDS'\n 'SDS' 'SDS' 'SDS' 'SDS' 'SDS' 'SDS' 'SDS' 'SDS' 'SDS' 'SDS' 'SDS' 'SDS'\n 'SDS' 'SDS' 'SDS' 'SDS' 'SDS' 'SDS' 'SDS' 'SDS' 'SDS' 'SDS' 'SDS' 'SDS'\n 'SDS' 'SDS' 'SDS' 'SDS' 'SDS' 'SDS' 'SDS' 'SDS' 'SDS' 'SDS' 'SDS' 'SDS'\n 'SDS' 'SDS' 'SDS' 'SDS' 'SDS' 'SDS' 'SDS' 'SDS' 'SDS' 'SDS' 'SDS' 'SDS'\n 'SDS' 'SDS' 'SDS' 'SDS' 'SDS' 'SDS' 'SDS' 'SDS' 'SDS' 'SDS' 'SDS' 'SDS'\n 'SDS' 'SDS' 'SDS' 'SDS' 'SDS' 'SDS' 'SDS' 'SDS' 'SDS' 'SDS' 'SDS' 'SDS'\n 'SDS' 'SDS' 'SDS' 'SDS' 'SDS' 'SDS' 'SDS' 'SDS' 'SDS' 'SDS' 'SDS' 'SDS'\n 'SDS' 'SDS' 'SDS' 'SDS']\n"
    }
   ],
   "source": [
    "'''\n",
    "In the cluster_list we have all a list of molecules in each cluter.\n",
    "We can therefore calculate all kinds of things with it.\n",
    "'''\n",
    "\n",
    "ClstrEns.universe.trajectory.rewind()\n",
    "n_frame = 50\n",
    "n_cluster = 1\n",
    "for i, this_cluster in enumerate(ClstrEns.cluster_list):\n",
    "    if i%10. < 1.0e-6: print(i)\n",
    "    if i == n_frame:\n",
    "        special_cluster = this_cluster[n_cluster]\n",
    "        COM = special_cluster.center_of_mass()\n",
    "        print('Centre of mass: {:.2f}, {:.2f}, {:.2f}'.format(*COM))\n",
    "        ClstrEns.unwrap_cluster(special_cluster, verbosity=1)\n",
    "        COM = special_cluster.center_of_mass()\n",
    "        print('Centre of mass: {:.2f}, {:.2f}, {:.2f}'.format(*COM))\n",
    "    \n",
    "\n",
    "\n",
    "# A cluster is a Residuegroup, we can use all the methods defined for\n",
    "# Residuegroups\n",
    "print('Type of special_cluster: {:s}'.format(type(special_cluster).__name__))\n",
    "\n",
    "COM = special_cluster.center_of_mass()\n",
    "print('Centre of mass: {:.2f}, {:.2f}, {:.2f}'.format(*COM))\n",
    "print('Centre of geomety: {:.2f}, {:.2f}, {:.2f}'.format(*special_cluster.center_of_geometry()))\n",
    "print('Radius of gyration: {:.3f}'.format(special_cluster.radius_of_gyration()))\n",
    "print('Ids of residues(molecules) in this cluster: ')\n",
    "print(special_cluster.resids)\n",
    "print('Type of residues(molecules) in this cluster: ')\n",
    "print(special_cluster.resnames)"
   ]
  },
  {
   "cell_type": "code",
   "execution_count": null,
   "metadata": {},
   "outputs": [],
   "source": []
  },
  {
   "cell_type": "code",
   "execution_count": null,
   "metadata": {},
   "outputs": [],
   "source": []
  }
 ],
 "metadata": {
  "kernelspec": {
   "display_name": "Python 3",
   "language": "python",
   "name": "python3"
  },
  "language_info": {
   "codemirror_mode": {
    "name": "ipython",
    "version": 3
   },
   "file_extension": ".py",
   "mimetype": "text/x-python",
   "name": "python",
   "nbconvert_exporter": "python",
   "pygments_lexer": "ipython3",
   "version": "3.7.3-final"
  }
 },
 "nbformat": 4,
 "nbformat_minor": 4
}