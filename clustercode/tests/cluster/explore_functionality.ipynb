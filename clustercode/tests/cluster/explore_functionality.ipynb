{
 "cells": [
  {
   "cell_type": "code",
   "execution_count": 3,
   "metadata": {},
   "outputs": [],
   "source": [
    "import MDAnalysis\n",
    "from clustercode import ClusterEnsemble\n",
    "import matplotlib \n",
    "import matplotlib.pyplot as plt"
   ]
  },
  {
   "cell_type": "code",
   "execution_count": 7,
   "metadata": {
    "tags": [
     "outputPrepend"
    ]
   },
   "outputs": [
    {
     "output_type": "stream",
     "name": "stdout",
     "text": "Residue names: SOL, Na, SDS, Cl\nNumber of residiue: 6130\nAtom names: C11, C4, Na, C1, C3, C8, OS4, C12, OS1, C6, Cl, C9, S, C2, C10, HW1, C7, OS2, C5, HW2, OW, OS3\nNumber of atoms: 19174\nLength of trajectory: 71\n"
    }
   ],
   "source": [
    "'''\n",
    "This is a small atomistic trajectory including a single large micelle of aggregation number 100.\n",
    "The Micelle is composed of SDS which has a HSO4 headgroup and carbon tail groups \n",
    "'''\n",
    "xtc = \"files/traj_small.xtc\"\n",
    "tpr = \"files/topol_small.tpr\"\n",
    "\n",
    "# First we are going to look at the trajectory with some basic MDAnalysis commands\n",
    "universe = MDAnalysis.Universe(tpr, xtc)\n",
    "\n",
    "atom_names = set(universe.atoms.names)\n",
    "residue_names = set(universe.residues.resnames)\n",
    "atom_number = universe.atoms.n_atoms\n",
    "residue_number = universe.residues.n_residues\n",
    "print('Residue names: {:s}'.format(', '.join(residue_names)))\n",
    "print('Number of residiue: {:d}'.format(residue_number))\n",
    "print('Atom names: {:s}'.format(', '.join(atom_names)))\n",
    "print('Number of atoms: {:d}'.format(atom_number))\n",
    "print('Length of trajectory: {:d}'.format(universe.trajectory.n_frames))"
   ]
  },
  {
   "cell_type": "code",
   "execution_count": 8,
   "metadata": {},
   "outputs": [],
   "source": [
    "'''\n",
    "We want two molecules to be considered in a cluster when their carbon tails are close enough together. \n",
    "Therefore the 'cluster_objects' will be C1 - C12\n",
    "We initialise the ClusterEnsemble object as follows:\n",
    "'''\n",
    "cluster_objects = ['C{:d}'.format(i) for i in range(1,13)]\n",
    "\n",
    "ClstrEns = ClusterEnsemble(tpr, xtc, cluster_objects)"
   ]
  },
  {
   "cell_type": "code",
   "execution_count": 9,
   "metadata": {},
   "outputs": [
    {
     "output_type": "stream",
     "name": "stdout",
     "text": "****TIME: 60000.00\n---->Number of clusters 1\n****TIME: 61000.00\n---->Number of clusters 1\n****TIME: 62000.00\n---->Number of clusters 1\n****TIME: 63000.00\n---->Number of clusters 1\n****TIME: 64000.00\n---->Number of clusters 1\n****TIME: 65000.00\n---->Number of clusters 1\n****TIME: 66000.00\n---->Number of clusters 1\n****TIME: 67000.00\n---->Number of clusters 1\n****TIME: 68000.00\n---->Number of clusters 1\n****TIME: 69000.00\n---->Number of clusters 1\n****TIME: 70000.00\n---->Number of clusters 1\n"
    }
   ],
   "source": [
    "'''\n",
    "Run the analysis for each frame within the specified times. cut-off is in Angstroem and describes how close two\n",
    "objects need to be to considered in the same cluster. This still depends on the measure parameter which is either\n",
    "centre of geometry (COG), centre of mass (COM) or bead to bead (b2b). \n",
    "'''\n",
    "ClstrEns.cluster_analysis(cut_off=7.5, times=(60e3, 70e3), measure=\"COM\", algorithm=\"dynamic\", work_in=\"Residue\", style=\"atom\")"
   ]
  },
  {
   "cell_type": "code",
   "execution_count": 10,
   "metadata": {},
   "outputs": [],
   "source": [
    "# This trajectory is larger and describes the inital phase of micellisations\n",
    "xtc = \"files/traj_large.xtc\"\n",
    "tpr = \"files/topol_large.tpr\"\n",
    "ClstrEns = ClusterEnsemble(tpr, xtc, cluster_objects)"
   ]
  },
  {
   "cell_type": "code",
   "execution_count": 11,
   "metadata": {},
   "outputs": [
    {
     "output_type": "stream",
     "name": "stdout",
     "text": "****TIME:     0.00\n---->Number of clusters 9\n****TIME:    50.00\n---->Number of clusters 9\n****TIME:   100.00\n---->Number of clusters 6\n****TIME:   150.00\n---->Number of clusters 6\n****TIME:   200.00\n---->Number of clusters 4\n****TIME:   250.00\n---->Number of clusters 10\n****TIME:   300.00\n---->Number of clusters 6\n****TIME:   350.00\n---->Number of clusters 5\n****TIME:   400.00\n---->Number of clusters 9\n****TIME:   450.00\n---->Number of clusters 5\n****TIME:   500.00\n---->Number of clusters 3\n****TIME:   550.00\n---->Number of clusters 3\n****TIME:   600.00\n---->Number of clusters 3\n****TIME:   650.00\n---->Number of clusters 4\n****TIME:   700.00\n---->Number of clusters 3\n****TIME:   750.00\n---->Number of clusters 3\n****TIME:   800.00\n---->Number of clusters 8\n****TIME:   850.00\n---->Number of clusters 5\n****TIME:   900.00\n---->Number of clusters 4\n****TIME:   950.00\n---->Number of clusters 5\n****TIME:  1000.00\n---->Number of clusters 7\n****TIME:  1050.00\n---->Number of clusters 5\n****TIME:  1100.00\n---->Number of clusters 6\n****TIME:  1150.00\n---->Number of clusters 6\n****TIME:  1200.00\n---->Number of clusters 6\n****TIME:  1250.00\n---->Number of clusters 11\n****TIME:  1300.00\n---->Number of clusters 10\n****TIME:  1350.00\n---->Number of clusters 9\n****TIME:  1400.00\n---->Number of clusters 9\n****TIME:  1450.00\n---->Number of clusters 8\n****TIME:  1500.00\n---->Number of clusters 7\n****TIME:  1550.00\n---->Number of clusters 9\n****TIME:  1600.00\n---->Number of clusters 10\n****TIME:  1650.00\n---->Number of clusters 12\n****TIME:  1700.00\n---->Number of clusters 12\n****TIME:  1750.00\n---->Number of clusters 11\n****TIME:  1800.00\n---->Number of clusters 12\n****TIME:  1850.00\n---->Number of clusters 15\n****TIME:  1900.00\n---->Number of clusters 12\n****TIME:  1950.00\n---->Number of clusters 12\n****TIME:  2000.00\n---->Number of clusters 11\n****TIME:  2050.00\n---->Number of clusters 12\n****TIME:  2100.00\n---->Number of clusters 11\n****TIME:  2150.00\n---->Number of clusters 10\n****TIME:  2200.00\n---->Number of clusters 9\n****TIME:  2250.00\n---->Number of clusters 11\n****TIME:  2300.00\n---->Number of clusters 10\n****TIME:  2350.00\n---->Number of clusters 12\n****TIME:  2400.00\n---->Number of clusters 12\n****TIME:  2450.00\n---->Number of clusters 10\n****TIME:  2500.00\n---->Number of clusters 11\n****TIME:  2550.00\n---->Number of clusters 11\n****TIME:  2600.00\n---->Number of clusters 12\n****TIME:  2650.00\n---->Number of clusters 13\n****TIME:  2700.00\n---->Number of clusters 11\n****TIME:  2750.00\n---->Number of clusters 9\n****TIME:  2800.00\n---->Number of clusters 11\n****TIME:  2850.00\n---->Number of clusters 11\n****TIME:  2900.00\n---->Number of clusters 12\n****TIME:  2950.00\n---->Number of clusters 12\n****TIME:  3000.00\n---->Number of clusters 12\n****TIME:  3050.00\n---->Number of clusters 13\n****TIME:  3100.00\n---->Number of clusters 12\n****TIME:  3150.00\n---->Number of clusters 12\n****TIME:  3200.00\n---->Number of clusters 12\n****TIME:  3250.00\n---->Number of clusters 12\n****TIME:  3300.00\n---->Number of clusters 12\n****TIME:  3350.00\n---->Number of clusters 12\n****TIME:  3400.00\n---->Number of clusters 10\n****TIME:  3450.00\n---->Number of clusters 8\n****TIME:  3500.00\n---->Number of clusters 9\n****TIME:  3550.00\n---->Number of clusters 9\n****TIME:  3600.00\n---->Number of clusters 7\n****TIME:  3650.00\n---->Number of clusters 10\n****TIME:  3700.00\n---->Number of clusters 10\n****TIME:  3750.00\n---->Number of clusters 10\n****TIME:  3800.00\n---->Number of clusters 12\n****TIME:  3850.00\n---->Number of clusters 9\n****TIME:  3900.00\n---->Number of clusters 9\n****TIME:  3950.00\n---->Number of clusters 8\n****TIME:  4000.00\n---->Number of clusters 10\n****TIME:  4050.00\n---->Number of clusters 11\n****TIME:  4100.00\n---->Number of clusters 9\n****TIME:  4150.00\n---->Number of clusters 10\n****TIME:  4200.00\n---->Number of clusters 13\n****TIME:  4250.00\n---->Number of clusters 12\n****TIME:  4300.00\n---->Number of clusters 12\n****TIME:  4350.00\n---->Number of clusters 11\n****TIME:  4400.00\n---->Number of clusters 11\n****TIME:  4450.00\n---->Number of clusters 11\n****TIME:  4500.00\n---->Number of clusters 11\n****TIME:  4550.00\n---->Number of clusters 12\n****TIME:  4600.00\n---->Number of clusters 10\n****TIME:  4650.00\n---->Number of clusters 9\n****TIME:  4700.00\n---->Number of clusters 9\n****TIME:  4750.00\n---->Number of clusters 9\n****TIME:  4800.00\n---->Number of clusters 10\n****TIME:  4850.00\n---->Number of clusters 9\n****TIME:  4900.00\n---->Number of clusters 10\n****TIME:  4950.00\n---->Number of clusters 12\n****TIME:  5000.00\n---->Number of clusters 10\n****TIME:  5050.00\n---->Number of clusters 12\n****TIME:  5100.00\n---->Number of clusters 13\n****TIME:  5150.00\n---->Number of clusters 11\n****TIME:  5200.00\n---->Number of clusters 12\n****TIME:  5250.00\n---->Number of clusters 12\n****TIME:  5300.00\n---->Number of clusters 12\n****TIME:  5350.00\n---->Number of clusters 10\n****TIME:  5400.00\n---->Number of clusters 11\n****TIME:  5450.00\n---->Number of clusters 10\n****TIME:  5500.00\n---->Number of clusters 9\n****TIME:  5550.00\n---->Number of clusters 9\n****TIME:  5600.00\n---->Number of clusters 10\n****TIME:  5650.00\n---->Number of clusters 11\n****TIME:  5700.00\n---->Number of clusters 10\n****TIME:  5750.00\n---->Number of clusters 10\n****TIME:  5800.00\n---->Number of clusters 9\n****TIME:  5850.00\n---->Number of clusters 9\n****TIME:  5900.00\n---->Number of clusters 9\n****TIME:  5950.00\n---->Number of clusters 9\n****TIME:  6000.00\n---->Number of clusters 9\n****TIME:  6050.00\n---->Number of clusters 9\n****TIME:  6100.00\n---->Number of clusters 7\n****TIME:  6150.00\n---->Number of clusters 10\n****TIME:  6200.00\n---->Number of clusters 9\n****TIME:  6250.00\n---->Number of clusters 9\n****TIME:  6300.00\n---->Number of clusters 9\n****TIME:  6350.00\n---->Number of clusters 10\n****TIME:  6400.00\n---->Number of clusters 10\n****TIME:  6450.00\n---->Number of clusters 9\n****TIME:  6500.00\n---->Number of clusters 9\n****TIME:  6550.00\n---->Number of clusters 9\n****TIME:  6600.00\n---->Number of clusters 9\n****TIME:  6650.00\n---->Number of clusters 9\n****TIME:  6700.00\n---->Number of clusters 9\n****TIME:  6750.00\n---->Number of clusters 10\n****TIME:  6800.00\n---->Number of clusters 11\n****TIME:  6850.00\n---->Number of clusters 10\n****TIME:  6900.00\n---->Number of clusters 11\n****TIME:  6950.00\n---->Number of clusters 11\n****TIME:  7000.00\n---->Number of clusters 11\n****TIME:  7050.00\n---->Number of clusters 10\n****TIME:  7100.00\n---->Number of clusters 9\n****TIME:  7150.00\n---->Number of clusters 10\n****TIME:  7200.00\n---->Number of clusters 10\n****TIME:  7250.00\n---->Number of clusters 10\n****TIME:  7300.00\n---->Number of clusters 10\n****TIME:  7350.00\n---->Number of clusters 11\n****TIME:  7400.00\n---->Number of clusters 11\n****TIME:  7450.00\n---->Number of clusters 11\n****TIME:  7500.00\n---->Number of clusters 10\n****TIME:  7550.00\n---->Number of clusters 10\n****TIME:  7600.00\n---->Number of clusters 10\n****TIME:  7650.00\n---->Number of clusters 9\n****TIME:  7700.00\n---->Number of clusters 9\n****TIME:  7750.00\n---->Number of clusters 9\n****TIME:  7800.00\n---->Number of clusters 10\n****TIME:  7850.00\n---->Number of clusters 9\n****TIME:  7900.00\n---->Number of clusters 9\n****TIME:  7950.00\n---->Number of clusters 8\n****TIME:  8000.00\n---->Number of clusters 6\n****TIME:  8050.00\n---->Number of clusters 7\n****TIME:  8100.00\n---->Number of clusters 8\n****TIME:  8150.00\n---->Number of clusters 9\n****TIME:  8200.00\n---->Number of clusters 9\n****TIME:  8250.00\n---->Number of clusters 9\n****TIME:  8300.00\n---->Number of clusters 10\n****TIME:  8350.00\n---->Number of clusters 9\n****TIME:  8400.00\n---->Number of clusters 9\n****TIME:  8450.00\n---->Number of clusters 8\n****TIME:  8500.00\n---->Number of clusters 8\n****TIME:  8550.00\n---->Number of clusters 8\n****TIME:  8600.00\n---->Number of clusters 10\n****TIME:  8650.00\n---->Number of clusters 10\n****TIME:  8700.00\n---->Number of clusters 10\n****TIME:  8750.00\n---->Number of clusters 10\n****TIME:  8800.00\n---->Number of clusters 10\n****TIME:  8850.00\n---->Number of clusters 10\n****TIME:  8900.00\n---->Number of clusters 8\n****TIME:  8950.00\n---->Number of clusters 8\n****TIME:  9000.00\n---->Number of clusters 10\n****TIME:  9050.00\n---->Number of clusters 10\n****TIME:  9100.00\n---->Number of clusters 10\n****TIME:  9150.00\n---->Number of clusters 10\n****TIME:  9200.00\n---->Number of clusters 10\n****TIME:  9250.00\n---->Number of clusters 11\n****TIME:  9300.00\n---->Number of clusters 9\n****TIME:  9350.00\n---->Number of clusters 9\n****TIME:  9400.00\n---->Number of clusters 8\n****TIME:  9450.00\n---->Number of clusters 7\n****TIME:  9500.00\n---->Number of clusters 9\n****TIME:  9550.00\n---->Number of clusters 8\n****TIME:  9600.00\n---->Number of clusters 8\n****TIME:  9650.00\n---->Number of clusters 9\n****TIME:  9700.00\n---->Number of clusters 9\n****TIME:  9750.00\n---->Number of clusters 9\n****TIME:  9800.00\n---->Number of clusters 8\n****TIME:  9850.00\n---->Number of clusters 9\n****TIME:  9900.00\n---->Number of clusters 9\n****TIME:  9950.00\n---->Number of clusters 9\n****TIME: 10000.00\n---->Number of clusters 10\n****TIME: 10050.00\n---->Number of clusters 9\n****TIME: 10100.00\n---->Number of clusters 10\n****TIME: 10150.00\n---->Number of clusters 10\n****TIME: 10200.00\n---->Number of clusters 10\n****TIME: 10250.00\n---->Number of clusters 10\n****TIME: 10300.00\n---->Number of clusters 9\n****TIME: 10350.00\n---->Number of clusters 9\n****TIME: 10400.00\n---->Number of clusters 9\n****TIME: 10450.00\n---->Number of clusters 9\n****TIME: 10500.00\n---->Number of clusters 9\n****TIME: 10550.00\n---->Number of clusters 8\n****TIME: 10600.00\n---->Number of clusters 9\n****TIME: 10650.00\n---->Number of clusters 8\n****TIME: 10700.00\n---->Number of clusters 9\n****TIME: 10750.00\n---->Number of clusters 9\n****TIME: 10800.00\n---->Number of clusters 8\n****TIME: 10850.00\n---->Number of clusters 9\n****TIME: 10900.00\n---->Number of clusters 9\n****TIME: 10950.00\n---->Number of clusters 9\n****TIME: 11000.00\n---->Number of clusters 8\n****TIME: 11050.00\n---->Number of clusters 8\n****TIME: 11100.00\n---->Number of clusters 9\n****TIME: 11150.00\n---->Number of clusters 9\n****TIME: 11200.00\n---->Number of clusters 9\n****TIME: 11250.00\n---->Number of clusters 9\n****TIME: 11300.00\n---->Number of clusters 9\n****TIME: 11350.00\n---->Number of clusters 9\n****TIME: 11400.00\n---->Number of clusters 9\n****TIME: 11450.00\n---->Number of clusters 9\n****TIME: 11500.00\n---->Number of clusters 8\n****TIME: 11550.00\n---->Number of clusters 9\n****TIME: 11600.00\n---->Number of clusters 9\n****TIME: 11650.00\n---->Number of clusters 9\n****TIME: 11700.00\n---->Number of clusters 9\n****TIME: 11750.00\n---->Number of clusters 9\n****TIME: 11800.00\n---->Number of clusters 9\n****TIME: 11850.00\n---->Number of clusters 9\n****TIME: 11900.00\n---->Number of clusters 9\n****TIME: 11950.00\n---->Number of clusters 9\n****TIME: 12000.00\n---->Number of clusters 9\n****TIME: 12050.00\n---->Number of clusters 9\n****TIME: 12100.00\n---->Number of clusters 9\n****TIME: 12150.00\n---->Number of clusters 9\n****TIME: 12200.00\n---->Number of clusters 9\n****TIME: 12250.00\n---->Number of clusters 9\n****TIME: 12300.00\n---->Number of clusters 9\n****TIME: 12350.00\n---->Number of clusters 9\n****TIME: 12400.00\n---->Number of clusters 9\n****TIME: 12450.00\n---->Number of clusters 9\n****TIME: 12500.00\n---->Number of clusters 9\n****TIME: 12550.00\n---->Number of clusters 9\n****TIME: 12600.00\n---->Number of clusters 8\n****TIME: 12650.00\n---->Number of clusters 9\n****TIME: 12700.00\n---->Number of clusters 9\n****TIME: 12750.00\n---->Number of clusters 9\n****TIME: 12800.00\n---->Number of clusters 9\n****TIME: 12850.00\n---->Number of clusters 9\n****TIME: 12900.00\n---->Number of clusters 9\n****TIME: 12950.00\n---->Number of clusters 9\n****TIME: 13000.00\n---->Number of clusters 9\n****TIME: 13050.00\n---->Number of clusters 9\n****TIME: 13100.00\n---->Number of clusters 9\n****TIME: 13150.00\n---->Number of clusters 9\n****TIME: 13200.00\n---->Number of clusters 9\n****TIME: 13250.00\n---->Number of clusters 9\n****TIME: 13300.00\n---->Number of clusters 9\n****TIME: 13350.00\n---->Number of clusters 8\n****TIME: 13400.00\n---->Number of clusters 8\n****TIME: 13450.00\n---->Number of clusters 8\n****TIME: 13500.00\n---->Number of clusters 7\n****TIME: 13550.00\n---->Number of clusters 8\n****TIME: 13600.00\n---->Number of clusters 8\n****TIME: 13650.00\n---->Number of clusters 8\n****TIME: 13700.00\n---->Number of clusters 7\n****TIME: 13750.00\n---->Number of clusters 8\n****TIME: 13800.00\n---->Number of clusters 8\n****TIME: 13850.00\n---->Number of clusters 8\n****TIME: 13900.00\n---->Number of clusters 8\n****TIME: 13950.00\n---->Number of clusters 8\n****TIME: 14000.00\n---->Number of clusters 8\n****TIME: 14050.00\n---->Number of clusters 8\n****TIME: 14100.00\n---->Number of clusters 8\n****TIME: 14150.00\n---->Number of clusters 8\n****TIME: 14200.00\n---->Number of clusters 8\n****TIME: 14250.00\n---->Number of clusters 8\n****TIME: 14300.00\n---->Number of clusters 8\n****TIME: 14350.00\n---->Number of clusters 9\n****TIME: 14400.00\n---->Number of clusters 8\n****TIME: 14450.00\n---->Number of clusters 8\n****TIME: 14500.00\n---->Number of clusters 8\n****TIME: 14550.00\n---->Number of clusters 7\n****TIME: 14600.00\n---->Number of clusters 7\n****TIME: 14650.00\n---->Number of clusters 8\n****TIME: 14700.00\n---->Number of clusters 8\n****TIME: 14750.00\n---->Number of clusters 8\n****TIME: 14800.00\n---->Number of clusters 8\n****TIME: 14850.00\n---->Number of clusters 8\n****TIME: 14900.00\n---->Number of clusters 8\n****TIME: 14950.00\n---->Number of clusters 8\n****TIME: 15000.00\n---->Number of clusters 8\n****TIME: 15050.00\n---->Number of clusters 8\n****TIME: 15100.00\n---->Number of clusters 8\n****TIME: 15150.00\n---->Number of clusters 8\n****TIME: 15200.00\n---->Number of clusters 6\n****TIME: 15250.00\n---->Number of clusters 7\n****TIME: 15300.00\n---->Number of clusters 5\n****TIME: 15350.00\n---->Number of clusters 6\n****TIME: 15400.00\n---->Number of clusters 7\n****TIME: 15450.00\n---->Number of clusters 7\n****TIME: 15500.00\n---->Number of clusters 7\n****TIME: 15550.00\n---->Number of clusters 7\n****TIME: 15600.00\n---->Number of clusters 6\n****TIME: 15650.00\n---->Number of clusters 6\n****TIME: 15700.00\n---->Number of clusters 7\n****TIME: 15750.00\n---->Number of clusters 7\n****TIME: 15800.00\n---->Number of clusters 6\n****TIME: 15850.00\n---->Number of clusters 7\n"
    }
   ],
   "source": [
    "ClstrEns.cluster_analysis(cut_off=3.5, times=None, measure=\"COM\", algorithm=\"dynamic\", work_in=\"Residue\", style=\"atom\")"
   ]
  },
  {
   "cell_type": "code",
   "execution_count": 12,
   "metadata": {},
   "outputs": [],
   "source": [
    "\"\"\"\n",
    "These function will be added to the object soond as of now they are \n",
    "here to use.\n",
    "\"\"\"\n",
    "def get_cluster_size(cluster_list, frame):\n",
    "    '''\n",
    "    This function calculates the size of cluster in a single frame\n",
    "    '''\n",
    "    return [len(cluster) for cluster in cluster_list[frame]]\n",
    "\n",
    "def get_cluster_sizes(cluster_list, first=None, last=None, stride=1):\n",
    "    '''\n",
    "    This function calculates the sizes of clusters in multiple frames.\n",
    "    start and stop are measured in frames.\n",
    "    '''\n",
    "    if first is None: first = 0\n",
    "    if last is None: last = len(cluster_list)\n",
    "    cluster_sizes = []\n",
    "    frames = (first, last, stride)\n",
    "    for frame in range(first, last, stride):\n",
    "        cluster_sizes.append(_get_cluster_size(cluster_list, frame))\n",
    "    return cluster_sizes\n",
    "\n",
    "\n",
    "def plot_histogram(ax, cluster_list, frames=[(0, 1, 1)], density=True, maxbins=True, *args, **kwargs):\n",
    "    \"\"\"\n",
    "    Function to plot histograms for different timeframes.\n",
    "    Frames is a list of tuples with (first, last, stride) for get_cluster_sizes\n",
    "    \"\"\" \n",
    "    masterlist = []\n",
    "    if isinstance(frames, list): pass\n",
    "    else: frames = [frames]\n",
    "\n",
    "    for frame in frames:\n",
    "        frame_lists = get_cluster_sizes(\n",
    "            cluster_list, \n",
    "            first=frame[0], \n",
    "            last=frame[1], \n",
    "            stride=frame[2]\n",
    "            )\n",
    "        flat_list = [item for sublist in frame_lists for item in sublist]\n",
    "        masterlist.append(flat_list)\n",
    "            #@Todo if frame outside of scope, give warning \n",
    "    if maxbins == True:\n",
    "        bins = max([max(item) for item in masterlist])\n",
    "    else:\n",
    "        bins = None\n",
    "    for i, (item, frame) in enumerate(zip(masterlist, frames)):\n",
    "        label = 'Frames: {:d} - {:d}'.format(frame[0], frame[1])\n",
    "        _, bins, _ = ax.hist(item, bins=bins, density=density, label=label, *args, **kwargs, alpha=0.5)"
   ]
  },
  {
   "cell_type": "code",
   "execution_count": 13,
   "metadata": {},
   "outputs": [
    {
     "output_type": "stream",
     "name": "stdout",
     "text": "Cluter sizes in 0. frame: 392, 1, 1, 1, 1, 1, 1, 1, 1\n"
    },
    {
     "output_type": "error",
     "ename": "NameError",
     "evalue": "name '_get_cluster_size' is not defined",
     "traceback": [
      "\u001b[0;31m---------------------------------------------------------------------------\u001b[0m",
      "\u001b[0;31mNameError\u001b[0m                                 Traceback (most recent call last)",
      "\u001b[0;32m<ipython-input-13-5b7f7d3bfb7c>\u001b[0m in \u001b[0;36m<module>\u001b[0;34m\u001b[0m\n\u001b[1;32m      9\u001b[0m \u001b[0;31m# The return value of _get_cluster_size and _get_cluster_sizes is actually\u001b[0m\u001b[0;34m\u001b[0m\u001b[0;34m\u001b[0m\u001b[0;34m\u001b[0m\u001b[0m\n\u001b[1;32m     10\u001b[0m \u001b[0;31m# a list and list of list respectively\u001b[0m\u001b[0;34m\u001b[0m\u001b[0;34m\u001b[0m\u001b[0;34m\u001b[0m\u001b[0m\n\u001b[0;32m---> 11\u001b[0;31m \u001b[0mframes_clusters\u001b[0m \u001b[0;34m=\u001b[0m \u001b[0mget_cluster_sizes\u001b[0m\u001b[0;34m(\u001b[0m\u001b[0mcluster_list\u001b[0m\u001b[0;34m,\u001b[0m \u001b[0mfirst\u001b[0m\u001b[0;34m=\u001b[0m\u001b[0;36m50\u001b[0m\u001b[0;34m,\u001b[0m \u001b[0mlast\u001b[0m\u001b[0;34m=\u001b[0m\u001b[0;36m55\u001b[0m\u001b[0;34m,\u001b[0m \u001b[0mstride\u001b[0m\u001b[0;34m=\u001b[0m\u001b[0;36m1\u001b[0m\u001b[0;34m)\u001b[0m\u001b[0;34m\u001b[0m\u001b[0;34m\u001b[0m\u001b[0m\n\u001b[0m\u001b[1;32m     12\u001b[0m \u001b[0;32mfor\u001b[0m \u001b[0mframe\u001b[0m\u001b[0;34m,\u001b[0m \u001b[0mi\u001b[0m \u001b[0;32min\u001b[0m \u001b[0mzip\u001b[0m\u001b[0;34m(\u001b[0m\u001b[0mframes_clusters\u001b[0m\u001b[0;34m,\u001b[0m \u001b[0mrange\u001b[0m\u001b[0;34m(\u001b[0m\u001b[0;36m50\u001b[0m\u001b[0;34m,\u001b[0m \u001b[0;36m55\u001b[0m\u001b[0;34m)\u001b[0m\u001b[0;34m)\u001b[0m\u001b[0;34m:\u001b[0m\u001b[0;34m\u001b[0m\u001b[0;34m\u001b[0m\u001b[0m\n\u001b[1;32m     13\u001b[0m     \u001b[0mprint_clusters\u001b[0m\u001b[0;34m(\u001b[0m\u001b[0mframe\u001b[0m\u001b[0;34m,\u001b[0m \u001b[0mi\u001b[0m\u001b[0;34m)\u001b[0m\u001b[0;34m\u001b[0m\u001b[0;34m\u001b[0m\u001b[0m\n",
      "\u001b[0;32m<ipython-input-12-a9d512f3102b>\u001b[0m in \u001b[0;36mget_cluster_sizes\u001b[0;34m(cluster_list, first, last, stride)\u001b[0m\n\u001b[1;32m     19\u001b[0m     \u001b[0mframes\u001b[0m \u001b[0;34m=\u001b[0m \u001b[0;34m(\u001b[0m\u001b[0mfirst\u001b[0m\u001b[0;34m,\u001b[0m \u001b[0mlast\u001b[0m\u001b[0;34m,\u001b[0m \u001b[0mstride\u001b[0m\u001b[0;34m)\u001b[0m\u001b[0;34m\u001b[0m\u001b[0;34m\u001b[0m\u001b[0m\n\u001b[1;32m     20\u001b[0m     \u001b[0;32mfor\u001b[0m \u001b[0mframe\u001b[0m \u001b[0;32min\u001b[0m \u001b[0mrange\u001b[0m\u001b[0;34m(\u001b[0m\u001b[0mfirst\u001b[0m\u001b[0;34m,\u001b[0m \u001b[0mlast\u001b[0m\u001b[0;34m,\u001b[0m \u001b[0mstride\u001b[0m\u001b[0;34m)\u001b[0m\u001b[0;34m:\u001b[0m\u001b[0;34m\u001b[0m\u001b[0;34m\u001b[0m\u001b[0m\n\u001b[0;32m---> 21\u001b[0;31m         \u001b[0mcluster_sizes\u001b[0m\u001b[0;34m.\u001b[0m\u001b[0mappend\u001b[0m\u001b[0;34m(\u001b[0m\u001b[0m_get_cluster_size\u001b[0m\u001b[0;34m(\u001b[0m\u001b[0mcluster_list\u001b[0m\u001b[0;34m,\u001b[0m \u001b[0mframe\u001b[0m\u001b[0;34m)\u001b[0m\u001b[0;34m)\u001b[0m\u001b[0;34m\u001b[0m\u001b[0;34m\u001b[0m\u001b[0m\n\u001b[0m\u001b[1;32m     22\u001b[0m     \u001b[0;32mreturn\u001b[0m \u001b[0mcluster_sizes\u001b[0m\u001b[0;34m\u001b[0m\u001b[0;34m\u001b[0m\u001b[0m\n\u001b[1;32m     23\u001b[0m \u001b[0;34m\u001b[0m\u001b[0m\n",
      "\u001b[0;31mNameError\u001b[0m: name '_get_cluster_size' is not defined"
     ]
    }
   ],
   "source": [
    "cluster_list = ClstrEns.cluster_list\n",
    "# Get the size distribution of clusters in the first frame:\n",
    "frame_0_clusters = get_cluster_size(cluster_list, 0)\n",
    "def print_clusters(frames, i):\n",
    "    print('Cluter sizes in {:d}. frame: {:s}'.format(i, ', '.join([str(item) for item in frames])))\n",
    "print_clusters(frame_0_clusters, 0)\n",
    "\n",
    "# Get the size distribution of several frames (from 50 to 54 here). \n",
    "# The return value of _get_cluster_size and _get_cluster_sizes is actually \n",
    "# a list and list of list respectively\n",
    "frames_clusters = get_cluster_sizes(cluster_list, first=50, last=55, stride=1)\n",
    "for frame, i in zip(frames_clusters, range(50, 55)):\n",
    "    print_clusters(frame, i)"
   ]
  },
  {
   "cell_type": "code",
   "execution_count": null,
   "metadata": {},
   "outputs": [],
   "source": [
    "fig, ax = plt.subplots()\n",
    "plot_histogram(ax, cluster_list, frames=[(50, 70, 1), (250, 270, 1)], density=True, maxbins=False, rwidth=None)\n",
    "ax.set_xlabel('Number of molecules in cluster')\n",
    "ax.set_ylabel('Probability of cluster')\n",
    "ax.legend()"
   ]
  },
  {
   "cell_type": "code",
   "execution_count": null,
   "metadata": {},
   "outputs": [],
   "source": [
    "'''\n",
    "In the cluster_list we have all a list of molecules in each cluter.\n",
    "We can therefore calculate all kinds of things with it.\n",
    "'''\n",
    "n_frame = 150\n",
    "n_cluster = 1\n",
    "special_cluster = cluster_list[n_frame][n_cluster]\n",
    "\n",
    "# A cluster is a Residuegroup, we can use all the methods defined for\n",
    "# Residuegroups\n",
    "print('Type of special_cluster: {:s}'.format(type(special_cluster).__name__))\n",
    "\n",
    "COM = special_cluster.center_of_mass()\n",
    "print('Centre of mass: {:.2f}, {:.2f}, {:.2f}'.format(*COM))\n",
    "print('Centre of geomety: {:.2f}, {:.2f}, {:.2f}'.format(*special_cluster.center_of_geometry()))\n",
    "print('Radius of gyration: {:.3f}'.format(special_cluster.radius_of_gyration()))\n",
    "print('Ids of residues(molecules) in this cluster: ')\n",
    "print(special_cluster.resids)\n",
    "print('Type of residues(molecules) in this cluster: ')\n",
    "print(special_cluster.resnames)"
   ]
  }
 ],
 "metadata": {
  "kernelspec": {
   "display_name": "Python 3.8.0 64-bit ('shiny': conda)",
   "language": "python",
   "name": "python38064bitshinyconda1370f074ed024f52aaf351e12f3221e2"
  },
  "language_info": {
   "codemirror_mode": {
    "name": "ipython",
    "version": 3
   },
   "file_extension": ".py",
   "mimetype": "text/x-python",
   "name": "python",
   "nbconvert_exporter": "python",
   "pygments_lexer": "ipython3",
   "version": "3.8.0-final"
  }
 },
 "nbformat": 4,
 "nbformat_minor": 4
}