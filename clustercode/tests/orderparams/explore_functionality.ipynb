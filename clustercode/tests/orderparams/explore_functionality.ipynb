{
 "cells": [
  {
   "cell_type": "markdown",
   "metadata": {},
   "source": [
    "Example of how to use the OrderParameterEnsemble class to calculate nematic order parameters, translational order parameters and structure factors. The example system consists of a coarse grain simulation of water and monoglyceride solution (more details can be found in \"files_orderparams/README.md\"). \n",
    "\n",
    "The first step is to import the ClusterEnsemble and OrderParameterEnsemble classes."
   ]
  },
  {
   "cell_type": "code",
   "execution_count": 2,
   "metadata": {},
   "outputs": [],
   "source": [
    "from clustercode.ClusterEnsemble import ClusterEnsemble\n",
    "from clustercode.OrderParameterEnsemble import OrderParameterEnsemble"
   ]
  },
  {
   "cell_type": "markdown",
   "metadata": {},
   "source": [
    "The next step is to load the relevant files:\n",
    "    - run.tpr: contains the simulation run information\n",
    "    - init.gro: is the starting simulation configuration\n",
    "    - traj.xtc: is the simulation trajectory\n",
    "These can then be used to initiliase an instance of the OrderParameterEnsemble class"
   ]
  },
  {
   "cell_type": "code",
   "execution_count": 4,
   "metadata": {},
   "outputs": [],
   "source": [
    "tpr  = \"files_orderparams/run.tpr\"\n",
    "init_config = \"files_orderparams/init.gro\"\n",
    "traj = \"files_orderparams/traj.xtc\"\n",
    "\n",
    "\n",
    "OrderParamEns = OrderParameterEnsemble(tpr, traj, ['MGE'])"
   ]
  },
  {
   "cell_type": "markdown",
   "metadata": {},
   "source": [
    "First we calculate the nematic order parameters of the initial configuration. The supplied trajectory file (files_orderparams/traj.xtc) has all the atoms in the box (gromacs flag -pbc atom), the molecules need to be made whole to do the nematic order parameter analysis thus we supply the parameter pbc_style='mol', which will use the gromacs command gmx trjconv to convert the file into the desired format (alternatively this could be done externally and a trajectory file with the gromacs flag -pbc mol could be supplied).\n",
    "\n",
    "We see how the nematic order parameter changes from the first configuration (time: 0 ns) to the final configuration (time: 500 ns). This is expected as at time 0 ns the system is ordered randomly, whereas at time 500 ns it forms a lamellar phase. This can be seen visually, in files_orderparams run the command: vmd init.gro traj.xtc -e vmdlog."
   ]
  },
  {
   "cell_type": "code",
   "execution_count": 6,
   "metadata": {},
   "outputs": [
    {
     "output_type": "stream",
     "name": "stdout",
     "text": "****TIME:     0.00\nNematic order parameter: 0.182\n****MEAN:\nMean nematic order parameter: 0.182 +/- 0.000\nMean system director: [-0.30158747  0.91599136  0.26458424]\n****TIME: 500000.00\nNematic order parameter: 0.526\n****MEAN:\nMean nematic order parameter: 0.526 +/- 0.000\nMean system director: [ 0.319589   -0.94156166  0.10641669]\n"
    }
   ],
   "source": [
    "OrderParamEns.nematic_op_analysis(times=[0], pbc_style='mol', style='molecule')\n",
    "\n",
    "OrderParamEns.nematic_op_analysis(times=[500000], pbc_style='mol', style='molecule')\n",
    "\n",
    "\n"
   ]
  },
  {
   "cell_type": "markdown",
   "metadata": {},
   "source": [
    "The nematic_op_analysis() method assigns a number of attributes:"
   ]
  },
  {
   "cell_type": "code",
   "execution_count": 9,
   "metadata": {},
   "outputs": [
    {
     "output_type": "stream",
     "name": "stdout",
     "text": "[0.5299535166100975]\n[array([-0.31757436,  0.94224242, -0.10642247])]\n0.5299535166100975 0.0\n[-0.31757436  0.94224242 -0.10642247]\n"
    }
   ],
   "source": [
    "print(OrderParamEns.nematic_op_list)\n",
    "print(OrderParamEns.system_director_list)\n",
    "print(OrderParamEns.mean_nematic_op, OrderParamEns.stdev_nematic_op)\n",
    "print(OrderParamEns.mean_system_director)"
   ]
  },
  {
   "cell_type": "markdown",
   "metadata": {
    "tags": [
     "outputPrepend",
     "outputPrepend",
     "outputPrepend",
     "outputPrepend",
     "outputPrepend",
     "outputPrepend",
     "outputPrepend"
    ]
   },
   "source": [
    "The nematic order parameter calculations depend on a principal molecular axis that is chosen for each molecule (or group of atoms). The two options available in the code are:\n",
    "    - The principal interntial axis (default, used above)\n",
    "    - The end-to-end vector uses the vector between the first and last atom in each atom group\n",
    "As can be seen below for the cases of the monoglyceride (MGE) molecules using the end-to-end vector are small compared to the principal inertial axis."
   ]
  },
  {
   "cell_type": "code",
   "execution_count": 8,
   "metadata": {},
   "outputs": [
    {
     "output_type": "stream",
     "name": "stdout",
     "text": "****TIME:     0.00\nNematic order parameter: 0.186\n****MEAN:\nMean nematic order parameter: 0.186 +/- 0.000\nMean system director: [-0.30667707  0.9113041   0.27472534]\n****TIME: 500000.00\nNematic order parameter: 0.530\n****MEAN:\nMean nematic order parameter: 0.530 +/- 0.000\nMean system director: [-0.31757436  0.94224242 -0.10642247]\n"
    }
   ],
   "source": [
    "OrderParamEns.nematic_op_analysis(times=[0], pbc_style='mol', style='molecule', principal_axis='end-to-end')\n",
    "\n",
    "OrderParamEns.nematic_op_analysis(times=[500000], pbc_style='mol', style='molecule', principal_axis='end-to-end')"
   ]
  },
  {
   "cell_type": "markdown",
   "metadata": {},
   "source": [
    "Get clusters to test whether structure analysis works on custom trajectories\n",
    "\n",
    "ClusEnsemble = ClusterEnsemble(tpr, traj, ['CM','CE'])\n",
    "\n",
    "ClusEnsemble.cluster_analysis(cut_off=7.5, times=(450000,500000), work_in=\"Residue\", style=\"atom\", traj_pbc_style=\"mol\", pbc=False)\n",
    "\n",
    "for frame in ClusEnsemble.cluster_list:\n",
    "    print(len(frame))\n",
    "    print([len(clus) for clus in frame])"
   ]
  }
 ],
 "metadata": {
  "kernelspec": {
   "display_name": "Python 3.7.4 64-bit",
   "language": "python",
   "name": "python37464bit04f7a7ca6e8f470e87fe4e2ac4fbe064"
  },
  "language_info": {
   "codemirror_mode": {
    "name": "ipython",
    "version": 3
   },
   "file_extension": ".py",
   "mimetype": "text/x-python",
   "name": "python",
   "nbconvert_exporter": "python",
   "pygments_lexer": "ipython3",
   "version": "3.7.4-final"
  }
 },
 "nbformat": 4,
 "nbformat_minor": 2
}