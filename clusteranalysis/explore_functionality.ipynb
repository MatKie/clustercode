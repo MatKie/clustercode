{
 "cells": [
  {
   "cell_type": "code",
   "execution_count": 101,
   "metadata": {},
   "outputs": [],
   "source": [
    "import MDAnalysis \n",
    "import numpy as np\n",
    "from MDAnalysis.lib.NeighborSearch import AtomNeighborSearch \n",
    "import time"
   ]
  },
  {
   "cell_type": "code",
   "execution_count": 81,
   "metadata": {},
   "outputs": [],
   "source": [
    "xtc = \"files/nvt_short.xtc\"\n",
    "tpr = \"files/nvt_2018.tpr\"\n",
    "\n",
    "u = MDAnalysis.Universe(tpr, xtc)\n",
    "time"
   ]
  },
  {
   "cell_type": "code",
   "execution_count": 82,
   "metadata": {},
   "outputs": [
    {
     "data": {
      "text/plain": [
       "<function MDAnalysis.core.groups.AtomGroup.select_atoms(self, sel, *othersel, **selgroups)>"
      ]
     },
     "execution_count": 82,
     "metadata": {},
     "output_type": "execute_result"
    }
   ],
   "source": [
    "cluster_particles = u.select_atoms(\"name {:s}\".format(\"CE CM\"))\n",
    "MDAnalysis.core.groups.AtomGroup.select_atoms"
   ]
  },
  {
   "cell_type": "code",
   "execution_count": 83,
   "metadata": {},
   "outputs": [],
   "source": [
    "cluster_particles_dict = cluster_particles.groupby(\"resids\")\n",
    "central = cluster_particles[0]"
   ]
  },
  {
   "cell_type": "code",
   "execution_count": null,
   "metadata": {},
   "outputs": [],
   "source": []
  },
  {
   "cell_type": "code",
   "execution_count": 104,
   "metadata": {},
   "outputs": [
    {
     "name": "stdout",
     "output_type": "stream",
     "text": [
      "2.38 s ± 67.8 ms per loop (mean ± std. dev. of 7 runs, 1 loop each)\n"
     ]
    }
   ],
   "source": [
    "cluster_list = []\n",
    "i = 0\n",
    "clustered_particles = {i}\n",
    "cluster_particles_set = set(cluster_particles.resids)\n",
    "cluster_over_time = []\n",
    "#remaining = cluster_particles_set.difference(res)\n",
    "#while (cluster_particles.n_atoms > 0):\n",
    "for tr in u.trajectory:\n",
    "    for atoms in cluster_particles_dict.values():\n",
    "        cluster_temp = set((AtomNeighborSearch(cluster_particles).search(atoms=atoms,\n",
    "                                                                    radius=7.5, \n",
    "                                                                    level=\"R\")))\n",
    "\n",
    "\n",
    "        cluster_list.append(cluster_temp)    \n",
    "        merged_index = []\n",
    "        for i, cluster in reversed(list(enumerate(cluster_list))):\n",
    "            if bool(cluster.intersection(cluster_temp)):\n",
    "                cluster_temp    = cluster_temp | cluster\n",
    "                cluster_list[i] = cluster_temp\n",
    "                merged_index.append(i)\n",
    "                if len(merged_index) > 1.5:\n",
    "                    del cluster_list[merged_index[0]]\n",
    "                    del merged_index[0]\n",
    "                elif len(merged_index) > 1.5:\n",
    "                    print(\"Somethings wrong!!!!!!!!!!!!\")\n",
    "    \n",
    "    cluster_over_time.append(cluster_list)\n"
   ]
  },
  {
   "cell_type": "code",
   "execution_count": 100,
   "metadata": {},
   "outputs": [
    {
     "name": "stdout",
     "output_type": "stream",
     "text": [
      "20\n"
     ]
    }
   ],
   "source": [
    "print(len(cluster_over_time[1][1]))"
   ]
  },
  {
   "cell_type": "code",
   "execution_count": 48,
   "metadata": {},
   "outputs": [],
   "source": [
    "a = []\n",
    "for b in a:\n",
    "    print(a)"
   ]
  },
  {
   "cell_type": "code",
   "execution_count": 51,
   "metadata": {},
   "outputs": [
    {
     "data": {
      "text/plain": [
       "True"
      ]
     },
     "execution_count": 51,
     "metadata": {},
     "output_type": "execute_result"
    }
   ],
   "source": [
    "isinstance(0,int)"
   ]
  },
  {
   "cell_type": "code",
   "execution_count": null,
   "metadata": {},
   "outputs": [],
   "source": []
  }
 ],
 "metadata": {
  "kernelspec": {
   "display_name": "Python 3",
   "language": "python",
   "name": "python3"
  },
  "language_info": {
   "codemirror_mode": {
    "name": "ipython",
    "version": 3
   },
   "file_extension": ".py",
   "mimetype": "text/x-python",
   "name": "python",
   "nbconvert_exporter": "python",
   "pygments_lexer": "ipython3",
   "version": "3.7.3"
  }
 },
 "nbformat": 4,
 "nbformat_minor": 2
}
