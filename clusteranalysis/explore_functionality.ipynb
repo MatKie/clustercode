{
 "cells": [
  {
   "cell_type": "code",
   "execution_count": 41,
   "metadata": {},
   "outputs": [],
   "source": [
    "import MDAnalysis \n",
    "import numpy as np\n",
    "from MDAnalysis.lib.NeighborSearch import AtomNeighborSearch \n",
    "from ClusterEnsemble import ClusterEnsemble\n",
    "import matplotlib \n",
    "import matplotlib.pyplot as plt"
   ]
  },
  {
   "cell_type": "code",
   "execution_count": 35,
   "metadata": {
    "collapsed": true
   },
   "outputs": [
    {
     "name": "stdout",
     "output_type": "stream",
     "text": [
      "Frame at time        0 ps has 102 clusters with                   55, 7, 15, 1, 28, 8, 18, 5, 17, 18, 1, 7, 13, 9, 7, 9, 3, 5, 3, 10, 7, 6, 27, 2, 11, 38, 1, 6, 1, 2, 1, 3, 3, 15, 11, 2, 2, 13, 6, 6, 3, 12, 22, 6, 17, 4, 11, 8, 8, 3, 7, 17, 7, 9, 10, 2, 2, 1, 1, 5, 2, 9, 3, 1, 7, 2, 1, 2, 7, 2, 6, 3, 1, 4, 2, 1, 1, 1, 2, 1, 1, 5, 1, 1, 1, 1, 2, 5, 1, 2, 2, 2, 2, 1, 1, 1, 1, 1, 1, 1, 1, 1 surfactants\n",
      "Frame at time       50 ps has 104 clusters with                   55, 7, 15, 1, 28, 8, 19, 5, 17, 18, 1, 7, 13, 9, 29, 9, 3, 5, 3, 10, 7, 6, 27, 2, 11, 38, 6, 1, 1, 1, 3, 3, 15, 11, 2, 2, 13, 6, 6, 3, 12, 5, 17, 4, 11, 8, 8, 3, 7, 17, 7, 9, 10, 2, 1, 2, 1, 1, 5, 2, 9, 5, 1, 7, 2, 1, 2, 7, 2, 6, 3, 1, 4, 1, 1, 1, 1, 2, 1, 1, 5, 1, 1, 1, 1, 1, 1, 5, 1, 1, 2, 1, 2, 1, 1, 1, 1, 1, 1, 1, 1, 1, 1, 1 surfactants\n",
      "Frame at time      100 ps has 101 clusters with                   55, 7, 15, 1, 28, 8, 18, 5, 17, 18, 3, 7, 13, 9, 29, 9, 3, 5, 3, 10, 7, 6, 27, 2, 11, 39, 1, 6, 1, 2, 1, 3, 3, 15, 11, 2, 2, 13, 6, 6, 3, 12, 5, 17, 4, 11, 8, 8, 3, 7, 17, 7, 9, 10, 2, 1, 2, 1, 5, 1, 9, 3, 1, 7, 2, 1, 2, 7, 6, 3, 1, 4, 1, 1, 2, 1, 2, 2, 1, 5, 1, 1, 1, 1, 1, 2, 1, 5, 1, 2, 2, 1, 2, 1, 1, 1, 1, 1, 1, 1, 1 surfactants\n",
      "Frame at time      150 ps has 100 clusters with                   55, 7, 15, 1, 28, 8, 19, 5, 17, 20, 1, 7, 13, 9, 29, 9, 3, 5, 3, 10, 7, 7, 27, 2, 11, 39, 1, 6, 1, 1, 3, 2, 15, 11, 2, 2, 13, 6, 6, 3, 12, 5, 17, 4, 11, 8, 8, 3, 7, 17, 7, 9, 10, 2, 1, 5, 1, 9, 3, 1, 1, 7, 2, 3, 1, 7, 2, 6, 3, 1, 4, 1, 1, 2, 1, 2, 2, 1, 5, 1, 1, 1, 6, 1, 1, 1, 2, 1, 1, 2, 1, 2, 1, 1, 1, 1, 1, 1, 1, 1 surfactants\n",
      "Frame at time      200 ps has 98 clusters with                   55, 7, 15, 1, 28, 8, 19, 5, 17, 20, 1, 7, 13, 9, 29, 9, 3, 5, 3, 10, 7, 6, 28, 2, 11, 39, 1, 6, 1, 1, 3, 2, 15, 11, 2, 2, 13, 6, 6, 3, 12, 5, 17, 4, 11, 9, 8, 3, 7, 17, 7, 9, 10, 2, 1, 5, 1, 9, 3, 1, 1, 7, 2, 3, 1, 7, 2, 6, 3, 1, 4, 1, 1, 2, 2, 2, 1, 1, 5, 1, 1, 1, 6, 1, 1, 2, 1, 1, 2, 2, 2, 1, 1, 1, 1, 1, 1, 1 surfactants\n",
      "Frame at time      250 ps has 94 clusters with                   55, 7, 15, 1, 28, 8, 19, 5, 17, 20, 1, 7, 13, 9, 29, 9, 3, 5, 3, 12, 7, 7, 28, 2, 11, 39, 1, 6, 1, 1, 3, 2, 15, 11, 2, 2, 13, 6, 6, 3, 12, 6, 17, 4, 11, 9, 8, 3, 7, 17, 7, 9, 10, 1, 5, 1, 9, 3, 3, 1, 7, 2, 3, 1, 7, 2, 6, 3, 1, 4, 1, 1, 2, 2, 1, 5, 1, 1, 1, 6, 1, 2, 1, 1, 2, 2, 2, 1, 1, 1, 1, 1, 1, 1 surfactants\n",
      "Frame at time      300 ps has 90 clusters with                   55, 7, 15, 1, 28, 8, 20, 5, 17, 23, 1, 7, 13, 9, 29, 9, 3, 5, 12, 12, 12, 7, 28, 2, 11, 39, 1, 6, 1, 1, 3, 2, 15, 11, 4, 1, 15, 6, 6, 1, 12, 5, 17, 4, 11, 9, 8, 3, 7, 17, 7, 10, 1, 5, 1, 9, 3, 3, 1, 7, 2, 3, 1, 7, 2, 6, 1, 2, 4, 1, 2, 1, 1, 1, 6, 1, 2, 1, 1, 2, 2, 2, 1, 1, 1, 1, 1, 1, 1, 1 surfactants\n",
      "Frame at time      350 ps has 87 clusters with                   55, 7, 15, 1, 28, 8, 20, 28, 17, 1, 7, 13, 9, 29, 26, 3, 5, 3, 12, 12, 7, 28, 2, 11, 39, 1, 6, 1, 1, 3, 4, 16, 11, 5, 1, 15, 6, 6, 4, 12, 5, 4, 11, 9, 8, 3, 7, 17, 7, 9, 10, 1, 5, 1, 9, 3, 1, 1, 7, 2, 1, 7, 6, 3, 1, 4, 1, 2, 1, 1, 1, 6, 1, 2, 1, 1, 2, 2, 1, 1, 1, 1, 1, 1, 1, 1, 1 surfactants\n",
      "Frame at time      400 ps has 89 clusters with                   55, 7, 15, 1, 28, 8, 20, 28, 17, 4, 7, 13, 9, 29, 9, 3, 5, 2, 12, 12, 7, 28, 2, 11, 39, 1, 6, 1, 1, 3, 4, 16, 11, 3, 1, 15, 6, 6, 4, 12, 5, 17, 4, 11, 9, 8, 3, 7, 17, 7, 9, 10, 1, 5, 1, 9, 3, 1, 1, 7, 2, 1, 7, 2, 6, 1, 4, 1, 2, 1, 1, 1, 6, 1, 2, 1, 1, 2, 2, 1, 1, 1, 1, 1, 1, 1, 1, 1, 1 surfactants\n",
      "Frame at time      450 ps has 84 clusters with                   55, 7, 15, 13, 28, 9, 20, 28, 17, 4, 7, 13, 9, 29, 26, 3, 5, 2, 12, 7, 28, 1, 11, 39, 1, 6, 1, 1, 3, 4, 16, 11, 5, 1, 15, 6, 6, 4, 12, 9, 3, 11, 10, 8, 3, 7, 17, 7, 9, 10, 5, 1, 9, 3, 1, 1, 7, 2, 1, 7, 7, 1, 2, 1, 1, 1, 1, 6, 1, 2, 1, 1, 2, 2, 1, 1, 1, 1, 1, 1, 1, 1, 1, 1 surfactants\n",
      "Frame at time      500 ps has 77 clusters with                   55, 7, 15, 13, 28, 9, 20, 28, 17, 4, 7, 13, 9, 29, 26, 3, 5, 3, 12, 7, 29, 2, 11, 39, 1, 6, 1, 1, 3, 4, 16, 14, 5, 2, 15, 13, 6, 4, 12, 9, 4, 11, 10, 8, 7, 17, 7, 9, 10, 5, 1, 9, 3, 1, 1, 7, 2, 1, 7, 1, 2, 1, 1, 1, 6, 1, 2, 1, 1, 2, 2, 1, 1, 1, 1, 1, 1 surfactants\n",
      "Frame at time      550 ps has 78 clusters with                   55, 7, 15, 13, 28, 9, 20, 29, 17, 4, 7, 13, 9, 29, 26, 3, 5, 3, 12, 7, 29, 2, 11, 39, 1, 6, 1, 1, 3, 6, 16, 11, 5, 1, 15, 13, 6, 4, 12, 9, 4, 11, 10, 8, 1, 7, 17, 7, 9, 10, 5, 1, 9, 3, 1, 1, 7, 2, 1, 7, 1, 2, 1, 1, 6, 1, 2, 2, 1, 1, 2, 1, 1, 1, 1, 1, 1, 1 surfactants\n",
      "Frame at time      600 ps has 75 clusters with                   55, 7, 15, 13, 28, 9, 20, 29, 17, 4, 7, 13, 9, 29, 26, 3, 5, 3, 12, 7, 29, 2, 11, 39, 1, 6, 1, 1, 7, 2, 16, 14, 5, 2, 15, 13, 6, 4, 12, 9, 11, 10, 8, 7, 17, 7, 9, 10, 5, 1, 9, 3, 1, 1, 7, 2, 1, 7, 1, 2, 4, 1, 1, 6, 1, 2, 1, 1, 2, 1, 1, 1, 1, 1, 1 surfactants\n",
      "Frame at time      650 ps has 69 clusters with                   55, 8, 22, 14, 28, 9, 21, 29, 17, 4, 7, 13, 9, 29, 26, 3, 5, 3, 12, 7, 29, 2, 11, 39, 6, 1, 1, 7, 6, 16, 14, 8, 2, 15, 13, 6, 12, 9, 11, 10, 8, 7, 17, 9, 10, 5, 9, 3, 1, 7, 2, 1, 13, 1, 2, 1, 1, 1, 1, 2, 1, 1, 2, 1, 1, 1, 1, 1, 1 surfactants\n",
      "Frame at time      700 ps has 70 clusters with                   55, 8, 22, 14, 28, 9, 21, 29, 17, 4, 7, 13, 9, 29, 26, 3, 5, 3, 12, 7, 29, 2, 11, 39, 6, 1, 1, 7, 6, 16, 14, 8, 2, 15, 13, 6, 12, 9, 11, 10, 8, 7, 17, 9, 10, 5, 9, 1, 1, 7, 2, 1, 13, 1, 2, 1, 1, 1, 1, 2, 2, 1, 1, 2, 1, 1, 1, 1, 1, 1 surfactants\n",
      "Frame at time      750 ps has 71 clusters with                   55, 8, 22, 14, 28, 9, 20, 29, 17, 4, 7, 13, 9, 29, 26, 3, 5, 3, 12, 7, 29, 2, 11, 39, 1, 6, 1, 1, 7, 6, 16, 14, 9, 2, 15, 13, 6, 12, 9, 11, 10, 8, 7, 17, 9, 10, 5, 9, 1, 1, 7, 2, 1, 13, 1, 1, 1, 1, 1, 2, 2, 1, 1, 2, 1, 1, 1, 1, 1, 1, 1 surfactants\n",
      "Frame at time      800 ps has 71 clusters with                   55, 8, 22, 14, 28, 9, 20, 29, 17, 4, 7, 13, 9, 29, 26, 3, 5, 3, 12, 7, 29, 2, 11, 39, 1, 6, 1, 1, 7, 6, 16, 14, 9, 2, 15, 13, 6, 12, 9, 11, 10, 8, 7, 17, 9, 10, 5, 9, 1, 1, 7, 2, 1, 13, 1, 1, 1, 1, 1, 2, 2, 1, 1, 2, 1, 1, 1, 1, 1, 1, 1 surfactants\n",
      "Frame at time      850 ps has 69 clusters with                   55, 8, 22, 14, 28, 9, 20, 29, 17, 4, 7, 13, 9, 29, 26, 3, 6, 3, 12, 7, 29, 2, 11, 39, 1, 6, 1, 1, 7, 6, 16, 14, 9, 2, 15, 13, 6, 12, 9, 11, 10, 8, 7, 17, 9, 10, 5, 9, 3, 1, 7, 2, 1, 13, 1, 2, 1, 1, 1, 1, 1, 1, 2, 1, 1, 1, 1, 1, 1 surfactants\n",
      "Frame at time      900 ps has 68 clusters with                   55, 8, 22, 14, 28, 9, 20, 29, 17, 4, 7, 13, 9, 29, 26, 3, 6, 3, 12, 7, 29, 2, 11, 39, 1, 6, 1, 1, 7, 6, 16, 14, 9, 2, 15, 13, 6, 12, 9, 11, 10, 8, 7, 17, 9, 10, 5, 9, 3, 1, 7, 2, 1, 13, 1, 2, 1, 1, 1, 2, 1, 1, 2, 1, 1, 1, 1, 1 surfactants\n",
      "Frame at time      950 ps has 68 clusters with                   55, 8, 22, 14, 28, 9, 20, 29, 17, 4, 7, 13, 9, 29, 26, 3, 5, 3, 12, 7, 29, 2, 11, 39, 1, 6, 1, 1, 7, 6, 16, 14, 9, 2, 15, 13, 6, 12, 9, 13, 10, 8, 7, 17, 9, 10, 5, 9, 3, 1, 7, 2, 1, 13, 1, 1, 1, 1, 2, 1, 1, 2, 1, 1, 1, 1, 1, 1 surfactants\n",
      "Frame at time     1000 ps has 70 clusters with                   55, 8, 22, 14, 28, 9, 20, 29, 17, 3, 7, 13, 9, 29, 26, 3, 5, 3, 12, 7, 29, 2, 11, 39, 1, 6, 1, 1, 7, 6, 16, 14, 9, 1, 15, 13, 6, 12, 9, 13, 10, 8, 7, 17, 9, 10, 5, 9, 3, 1, 7, 2, 1, 13, 1, 1, 1, 1, 1, 2, 1, 1, 2, 1, 1, 1, 1, 1, 1, 1 surfactants\n"
     ]
    },
    {
     "data": {
      "text/plain": [
       "__main__.TempClass"
      ]
     },
     "execution_count": 35,
     "metadata": {},
     "output_type": "execute_result"
    }
   ],
   "source": [
    "class TempClass(ClusterEnsemble):\n",
    "    def return_cluster_list(self):\n",
    "        return self.cluster_list\n",
    "\n",
    "xtc = \"files/npt.xtc\"\n",
    "tpr = \"files/npt.tpr\"\n",
    "\n",
    "ClstrEns = TempClass(tpr, xtc, [\"CE\", \"CM\"])\n",
    "ClstrEns.cluster_analysis()\n",
    "\n",
    "type(ClstrEns)\n"
   ]
  },
  {
   "cell_type": "code",
   "execution_count": 36,
   "metadata": {},
   "outputs": [],
   "source": [
    "cluster_list = ClstrEns.return_cluster_list()"
   ]
  },
  {
   "cell_type": "code",
   "execution_count": 263,
   "metadata": {},
   "outputs": [
    {
     "ename": "NameError",
     "evalue": "name 'args' is not defined",
     "output_type": "error",
     "traceback": [
      "\u001b[0;31m---------------------------------------------------------------------------\u001b[0m",
      "\u001b[0;31mNameError\u001b[0m                                 Traceback (most recent call last)",
      "\u001b[0;32m<ipython-input-263-49d265bb3a1b>\u001b[0m in \u001b[0;36m<module>\u001b[0;34m\u001b[0m\n\u001b[0;32m----> 1\u001b[0;31m \u001b[0;32mdef\u001b[0m \u001b[0mplot_histogram\u001b[0m\u001b[0;34m(\u001b[0m\u001b[0max\u001b[0m\u001b[0;34m,\u001b[0m \u001b[0mcluster_list\u001b[0m\u001b[0;34m,\u001b[0m \u001b[0mframes\u001b[0m\u001b[0;34m=\u001b[0m\u001b[0;34m[\u001b[0m\u001b[0;34m(\u001b[0m\u001b[0;36m0\u001b[0m\u001b[0;34m,\u001b[0m \u001b[0;36m1\u001b[0m\u001b[0;34m,\u001b[0m \u001b[0;36m1\u001b[0m\u001b[0;34m)\u001b[0m\u001b[0;34m]\u001b[0m\u001b[0;34m,\u001b[0m \u001b[0mmaxbins\u001b[0m\u001b[0;34m=\u001b[0m\u001b[0;32mFalse\u001b[0m\u001b[0;34m,\u001b[0m \u001b[0mdensity\u001b[0m\u001b[0;34m=\u001b[0m\u001b[0;32mTrue\u001b[0m \u001b[0;34m*\u001b[0m\u001b[0margs\u001b[0m\u001b[0;34m,\u001b[0m \u001b[0;34m**\u001b[0m\u001b[0mkwargs\u001b[0m\u001b[0;34m)\u001b[0m\u001b[0;34m:\u001b[0m\u001b[0;34m\u001b[0m\u001b[0;34m\u001b[0m\u001b[0m\n\u001b[0m\u001b[1;32m      2\u001b[0m     \"\"\"Function to plot histograms for different timeframes\n\u001b[1;32m      3\u001b[0m \u001b[0;34m\u001b[0m\u001b[0m\n\u001b[1;32m      4\u001b[0m     \"\"\"\n\u001b[1;32m      5\u001b[0m     \u001b[0;32mdef\u001b[0m \u001b[0m_get_cluster_sizes\u001b[0m\u001b[0;34m(\u001b[0m\u001b[0mcluster_list\u001b[0m\u001b[0;34m,\u001b[0m \u001b[0mframes\u001b[0m\u001b[0;34m)\u001b[0m\u001b[0;34m:\u001b[0m\u001b[0;34m\u001b[0m\u001b[0;34m\u001b[0m\u001b[0m\n",
      "\u001b[0;31mNameError\u001b[0m: name 'args' is not defined"
     ]
    }
   ],
   "source": [
    "def plot_histogram(ax, cluster_list, frames=[(0, 1, 1)], maxbins=False, density=True *args, **kwargs):\n",
    "    \"\"\"Function to plot histograms for different timeframes\n",
    "    \n",
    "    \"\"\"\n",
    "    def _get_cluster_sizes(cluster_list, frames):\n",
    "        cluster_sizes = []\n",
    "        for cluster in cluster_list[slice(*frames)]:\n",
    "            cluster_sizes += [len(seti) for seti in cluster]\n",
    "        return cluster_sizes\n",
    "        \n",
    "    masterlist = []\n",
    "    \n",
    "    for frame in frames:\n",
    "        masterlist.append(_get_cluster_sizes(cluster_list, frame))\n",
    "\n",
    "    #@Todo if frame outside of scope, give warning \n",
    "    if maxbins == True:\n",
    "        bins = max([max(item) for item in masterlist])\n",
    "    #print(bins)\n",
    "    ax.hist(masterlist, density=density *args, **kwargs)"
   ]
  },
  {
   "cell_type": "code",
   "execution_count": 265,
   "metadata": {},
   "outputs": [
    {
     "name": "stdout",
     "output_type": "stream",
     "text": [
      "('b', 'i', 'n', 's', '=', 'b', 'i', 'n', 's')\n"
     ]
    },
    {
     "ename": "TypeError",
     "evalue": "hist() got multiple values for argument 'histtype'",
     "output_type": "error",
     "traceback": [
      "\u001b[0;31m---------------------------------------------------------------------------\u001b[0m",
      "\u001b[0;31mTypeError\u001b[0m                                 Traceback (most recent call last)",
      "\u001b[0;32m<ipython-input-265-28276b43c32c>\u001b[0m in \u001b[0;36m<module>\u001b[0;34m\u001b[0m\n\u001b[1;32m      2\u001b[0m \u001b[0;34m\u001b[0m\u001b[0m\n\u001b[1;32m      3\u001b[0m \u001b[0mframes\u001b[0m \u001b[0;34m=\u001b[0m \u001b[0;34m[\u001b[0m\u001b[0;34m(\u001b[0m\u001b[0;36m11\u001b[0m\u001b[0;34m,\u001b[0m \u001b[0;36m20\u001b[0m\u001b[0;34m,\u001b[0m \u001b[0;36m1\u001b[0m\u001b[0;34m)\u001b[0m\u001b[0;34m,\u001b[0m \u001b[0;34m(\u001b[0m\u001b[0;36m11\u001b[0m\u001b[0;34m,\u001b[0m \u001b[0;36m20\u001b[0m\u001b[0;34m,\u001b[0m \u001b[0;36m1\u001b[0m\u001b[0;34m)\u001b[0m\u001b[0;34m]\u001b[0m\u001b[0;34m\u001b[0m\u001b[0;34m\u001b[0m\u001b[0m\n\u001b[0;32m----> 4\u001b[0;31m \u001b[0mplot_histogram\u001b[0m\u001b[0;34m(\u001b[0m\u001b[0max\u001b[0m\u001b[0;34m,\u001b[0m \u001b[0mcluster_list\u001b[0m\u001b[0;34m,\u001b[0m \u001b[0mframes\u001b[0m\u001b[0;34m=\u001b[0m\u001b[0mframes\u001b[0m\u001b[0;34m,\u001b[0m \u001b[0mmaxbins\u001b[0m\u001b[0;34m=\u001b[0m\u001b[0;32mTrue\u001b[0m\u001b[0;34m,\u001b[0m \u001b[0mhisttype\u001b[0m\u001b[0;34m=\u001b[0m\u001b[0;34m'histtype'\u001b[0m\u001b[0;34m)\u001b[0m\u001b[0;34m\u001b[0m\u001b[0;34m\u001b[0m\u001b[0m\n\u001b[0m\u001b[1;32m      5\u001b[0m \u001b[0;31m#plot_histogram(ax2, cluster_list, frames=(11, 20, 1))\u001b[0m\u001b[0;34m\u001b[0m\u001b[0;34m\u001b[0m\u001b[0;34m\u001b[0m\u001b[0m\n",
      "\u001b[0;32m<ipython-input-259-452a429b0433>\u001b[0m in \u001b[0;36mplot_histogram\u001b[0;34m(ax, cluster_list, frames, maxbins, *args, **kwargs)\u001b[0m\n\u001b[1;32m     20\u001b[0m     \u001b[0mprint\u001b[0m\u001b[0;34m(\u001b[0m\u001b[0margs\u001b[0m\u001b[0;34m)\u001b[0m\u001b[0;34m\u001b[0m\u001b[0;34m\u001b[0m\u001b[0m\n\u001b[1;32m     21\u001b[0m     \u001b[0;31m#print(bins)\u001b[0m\u001b[0;34m\u001b[0m\u001b[0;34m\u001b[0m\u001b[0;34m\u001b[0m\u001b[0m\n\u001b[0;32m---> 22\u001b[0;31m     \u001b[0max\u001b[0m\u001b[0;34m.\u001b[0m\u001b[0mhist\u001b[0m\u001b[0;34m(\u001b[0m\u001b[0mmasterlist\u001b[0m\u001b[0;34m,\u001b[0m  \u001b[0;34m*\u001b[0m\u001b[0margs\u001b[0m\u001b[0;34m,\u001b[0m \u001b[0;34m**\u001b[0m\u001b[0mkwargs\u001b[0m\u001b[0;34m)\u001b[0m\u001b[0;34m\u001b[0m\u001b[0;34m\u001b[0m\u001b[0m\n\u001b[0m",
      "\u001b[0;32m~/miniconda3/lib/python3.7/site-packages/matplotlib/__init__.py\u001b[0m in \u001b[0;36minner\u001b[0;34m(ax, data, *args, **kwargs)\u001b[0m\n\u001b[1;32m   1599\u001b[0m     \u001b[0;32mdef\u001b[0m \u001b[0minner\u001b[0m\u001b[0;34m(\u001b[0m\u001b[0max\u001b[0m\u001b[0;34m,\u001b[0m \u001b[0;34m*\u001b[0m\u001b[0margs\u001b[0m\u001b[0;34m,\u001b[0m \u001b[0mdata\u001b[0m\u001b[0;34m=\u001b[0m\u001b[0;32mNone\u001b[0m\u001b[0;34m,\u001b[0m \u001b[0;34m**\u001b[0m\u001b[0mkwargs\u001b[0m\u001b[0;34m)\u001b[0m\u001b[0;34m:\u001b[0m\u001b[0;34m\u001b[0m\u001b[0;34m\u001b[0m\u001b[0m\n\u001b[1;32m   1600\u001b[0m         \u001b[0;32mif\u001b[0m \u001b[0mdata\u001b[0m \u001b[0;32mis\u001b[0m \u001b[0;32mNone\u001b[0m\u001b[0;34m:\u001b[0m\u001b[0;34m\u001b[0m\u001b[0;34m\u001b[0m\u001b[0m\n\u001b[0;32m-> 1601\u001b[0;31m             \u001b[0;32mreturn\u001b[0m \u001b[0mfunc\u001b[0m\u001b[0;34m(\u001b[0m\u001b[0max\u001b[0m\u001b[0;34m,\u001b[0m \u001b[0;34m*\u001b[0m\u001b[0mmap\u001b[0m\u001b[0;34m(\u001b[0m\u001b[0msanitize_sequence\u001b[0m\u001b[0;34m,\u001b[0m \u001b[0margs\u001b[0m\u001b[0;34m)\u001b[0m\u001b[0;34m,\u001b[0m \u001b[0;34m**\u001b[0m\u001b[0mkwargs\u001b[0m\u001b[0;34m)\u001b[0m\u001b[0;34m\u001b[0m\u001b[0;34m\u001b[0m\u001b[0m\n\u001b[0m\u001b[1;32m   1602\u001b[0m \u001b[0;34m\u001b[0m\u001b[0m\n\u001b[1;32m   1603\u001b[0m         \u001b[0mbound\u001b[0m \u001b[0;34m=\u001b[0m \u001b[0mnew_sig\u001b[0m\u001b[0;34m.\u001b[0m\u001b[0mbind\u001b[0m\u001b[0;34m(\u001b[0m\u001b[0max\u001b[0m\u001b[0;34m,\u001b[0m \u001b[0;34m*\u001b[0m\u001b[0margs\u001b[0m\u001b[0;34m,\u001b[0m \u001b[0;34m**\u001b[0m\u001b[0mkwargs\u001b[0m\u001b[0;34m)\u001b[0m\u001b[0;34m\u001b[0m\u001b[0;34m\u001b[0m\u001b[0m\n",
      "\u001b[0;31mTypeError\u001b[0m: hist() got multiple values for argument 'histtype'"
     ]
    },
    {
     "data": {
      "image/png": "[encoded data removed]",
      "text/plain": [
       "<Figure size 432x288 with 1 Axes>"
      ]
     },
     "metadata": {
      "needs_background": "light"
     },
     "output_type": "display_data"
    }
   ],
   "source": [
    "fig, ax = plt.subplots()\n",
    "\n",
    "frames = [(11, 20, 1), (11, 20, 1)]\n",
    "plot_histogram(ax, cluster_list, frames=frames, maxbins=True, histtype='histtype')\n",
    "#plot_histogram(ax2, cluster_list, frames=(11, 20, 1))"
   ]
  },
  {
   "cell_type": "code",
   "execution_count": 205,
   "metadata": {},
   "outputs": [
    {
     "ename": "TypeError",
     "evalue": "type object argument after * must be an iterable, not int",
     "output_type": "error",
     "traceback": [
      "\u001b[0;31m---------------------------------------------------------------------------\u001b[0m",
      "\u001b[0;31mTypeError\u001b[0m                                 Traceback (most recent call last)",
      "\u001b[0;32m<ipython-input-205-fc858dbbb827>\u001b[0m in \u001b[0;36m<module>\u001b[0;34m\u001b[0m\n\u001b[1;32m      1\u001b[0m \u001b[0mfig\u001b[0m\u001b[0;34m,\u001b[0m \u001b[0;34m(\u001b[0m\u001b[0max\u001b[0m\u001b[0;34m,\u001b[0m\u001b[0max2\u001b[0m\u001b[0;34m)\u001b[0m \u001b[0;34m=\u001b[0m \u001b[0mplt\u001b[0m\u001b[0;34m.\u001b[0m\u001b[0msubplots\u001b[0m\u001b[0;34m(\u001b[0m\u001b[0;36m1\u001b[0m\u001b[0;34m,\u001b[0m\u001b[0;36m2\u001b[0m\u001b[0;34m)\u001b[0m\u001b[0;34m\u001b[0m\u001b[0;34m\u001b[0m\u001b[0m\n\u001b[1;32m      2\u001b[0m \u001b[0;34m\u001b[0m\u001b[0m\n\u001b[0;32m----> 3\u001b[0;31m \u001b[0mplot_histogram\u001b[0m\u001b[0;34m(\u001b[0m\u001b[0max\u001b[0m\u001b[0;34m,\u001b[0m \u001b[0mcluster_list\u001b[0m\u001b[0;34m,\u001b[0m \u001b[0mframes\u001b[0m\u001b[0;34m=\u001b[0m\u001b[0;34m(\u001b[0m\u001b[0;36m0\u001b[0m\u001b[0;34m,\u001b[0m \u001b[0;36m10\u001b[0m\u001b[0;34m,\u001b[0m \u001b[0;36m1\u001b[0m\u001b[0;34m)\u001b[0m\u001b[0;34m)\u001b[0m\u001b[0;34m\u001b[0m\u001b[0;34m\u001b[0m\u001b[0m\n\u001b[0m\u001b[1;32m      4\u001b[0m \u001b[0mplot_histogram\u001b[0m\u001b[0;34m(\u001b[0m\u001b[0max2\u001b[0m\u001b[0;34m,\u001b[0m \u001b[0mcluster_list\u001b[0m\u001b[0;34m,\u001b[0m \u001b[0mframes\u001b[0m\u001b[0;34m=\u001b[0m\u001b[0;34m(\u001b[0m\u001b[0;36m11\u001b[0m\u001b[0;34m,\u001b[0m \u001b[0;36m20\u001b[0m\u001b[0;34m,\u001b[0m \u001b[0;36m1\u001b[0m\u001b[0;34m)\u001b[0m\u001b[0;34m)\u001b[0m\u001b[0;34m\u001b[0m\u001b[0;34m\u001b[0m\u001b[0m\n",
      "\u001b[0;32m<ipython-input-200-7f008ddf0d58>\u001b[0m in \u001b[0;36mplot_histogram\u001b[0;34m(ax, cluster_list, frames, *args, **kwargs)\u001b[0m\n\u001b[1;32m     12\u001b[0m \u001b[0;34m\u001b[0m\u001b[0m\n\u001b[1;32m     13\u001b[0m     \u001b[0;32mfor\u001b[0m \u001b[0mframe\u001b[0m \u001b[0;32min\u001b[0m \u001b[0mframes\u001b[0m\u001b[0;34m:\u001b[0m\u001b[0;34m\u001b[0m\u001b[0;34m\u001b[0m\u001b[0m\n\u001b[0;32m---> 14\u001b[0;31m         \u001b[0mmasterlist\u001b[0m\u001b[0;34m.\u001b[0m\u001b[0mappend\u001b[0m\u001b[0;34m(\u001b[0m\u001b[0m_get_cluster_sizes\u001b[0m\u001b[0;34m(\u001b[0m\u001b[0mcluster_list\u001b[0m\u001b[0;34m,\u001b[0m \u001b[0mframe\u001b[0m\u001b[0;34m)\u001b[0m\u001b[0;34m)\u001b[0m\u001b[0;34m\u001b[0m\u001b[0;34m\u001b[0m\u001b[0m\n\u001b[0m\u001b[1;32m     15\u001b[0m \u001b[0;34m\u001b[0m\u001b[0m\n\u001b[1;32m     16\u001b[0m     \u001b[0;31m#@Todo if frame outside of scope, give warning\u001b[0m\u001b[0;34m\u001b[0m\u001b[0;34m\u001b[0m\u001b[0;34m\u001b[0m\u001b[0m\n",
      "\u001b[0;32m<ipython-input-200-7f008ddf0d58>\u001b[0m in \u001b[0;36m_get_cluster_sizes\u001b[0;34m(cluster_list, frames)\u001b[0m\n\u001b[1;32m      5\u001b[0m     \u001b[0;32mdef\u001b[0m \u001b[0m_get_cluster_sizes\u001b[0m\u001b[0;34m(\u001b[0m\u001b[0mcluster_list\u001b[0m\u001b[0;34m,\u001b[0m \u001b[0mframes\u001b[0m\u001b[0;34m)\u001b[0m\u001b[0;34m:\u001b[0m\u001b[0;34m\u001b[0m\u001b[0;34m\u001b[0m\u001b[0m\n\u001b[1;32m      6\u001b[0m         \u001b[0mcluster_sizes\u001b[0m \u001b[0;34m=\u001b[0m \u001b[0;34m[\u001b[0m\u001b[0;34m]\u001b[0m\u001b[0;34m\u001b[0m\u001b[0;34m\u001b[0m\u001b[0m\n\u001b[0;32m----> 7\u001b[0;31m         \u001b[0;32mfor\u001b[0m \u001b[0mcluster\u001b[0m \u001b[0;32min\u001b[0m \u001b[0mcluster_list\u001b[0m\u001b[0;34m[\u001b[0m\u001b[0mslice\u001b[0m\u001b[0;34m(\u001b[0m\u001b[0;34m*\u001b[0m\u001b[0mframes\u001b[0m\u001b[0;34m)\u001b[0m\u001b[0;34m]\u001b[0m\u001b[0;34m:\u001b[0m\u001b[0;34m\u001b[0m\u001b[0;34m\u001b[0m\u001b[0m\n\u001b[0m\u001b[1;32m      8\u001b[0m             \u001b[0mcluster_sizes\u001b[0m \u001b[0;34m+=\u001b[0m \u001b[0;34m[\u001b[0m\u001b[0mlen\u001b[0m\u001b[0;34m(\u001b[0m\u001b[0mseti\u001b[0m\u001b[0;34m)\u001b[0m \u001b[0;32mfor\u001b[0m \u001b[0mseti\u001b[0m \u001b[0;32min\u001b[0m \u001b[0mcluster\u001b[0m\u001b[0;34m]\u001b[0m\u001b[0;34m\u001b[0m\u001b[0;34m\u001b[0m\u001b[0m\n\u001b[1;32m      9\u001b[0m         \u001b[0;32mreturn\u001b[0m \u001b[0mcluster_sizes\u001b[0m\u001b[0;34m\u001b[0m\u001b[0;34m\u001b[0m\u001b[0m\n",
      "\u001b[0;31mTypeError\u001b[0m: type object argument after * must be an iterable, not int"
     ]
    },
    {
     "data": {
      "image/png": "[encoded data removed]",
      "text/plain": [
       "<Figure size 432x288 with 2 Axes>"
      ]
     },
     "metadata": {
      "needs_background": "light"
     },
     "output_type": "display_data"
    }
   ],
   "source": [
    "fig, (ax,ax2) = plt.subplots(1,2)\n",
    "\n",
    "plot_histogram(ax, cluster_list, frames=(0, 10, 1))\n",
    "plot_histogram(ax2, cluster_list, frames=(11, 20, 1))"
   ]
  },
  {
   "cell_type": "code",
   "execution_count": null,
   "metadata": {
    "collapsed": true
   },
   "outputs": [],
   "source": [
    "\n"
   ]
  },
  {
   "cell_type": "code",
   "execution_count": null,
   "metadata": {
    "collapsed": true
   },
   "outputs": [],
   "source": []
  },
  {
   "cell_type": "code",
   "execution_count": null,
   "metadata": {
    "collapsed": true
   },
   "outputs": [],
   "source": []
  },
  {
   "cell_type": "code",
   "execution_count": null,
   "metadata": {
    "collapsed": true
   },
   "outputs": [],
   "source": []
  }
 ],
 "metadata": {
  "kernelspec": {
   "display_name": "Python 3",
   "language": "python",
   "name": "python3"
  },
  "language_info": {
   "codemirror_mode": {
    "name": "ipython",
    "version": 3
   },
   "file_extension": ".py",
   "mimetype": "text/x-python",
   "name": "python",
   "nbconvert_exporter": "python",
   "pygments_lexer": "ipython3",
   "version": "3.7.3"
  }
 },
 "nbformat": 4,
 "nbformat_minor": 2
}
