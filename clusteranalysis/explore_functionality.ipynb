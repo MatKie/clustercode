{
 "cells": [
  {
   "cell_type": "code",
   "execution_count": 101,
   "metadata": {},
   "outputs": [],
   "source": [
    "import MDAnalysis \n",
    "import numpy as np\n",
    "from MDAnalysis.lib.NeighborSearch import AtomNeighborSearch \n",
    "import time"
   ]
  },
  {
   "cell_type": "code",
   "execution_count": 81,
   "metadata": {},
   "outputs": [],
   "source": [
    "xtc = \"files/nvt_short.xtc\"\n",
    "tpr = \"files/nvt_2018.tpr\"\n",
    "\n",
    "u = MDAnalysis.Universe(tpr, xtc)\n",
    "time"
   ]
  },
  {
   "cell_type": "code",
   "execution_count": 82,
   "metadata": {},
   "outputs": [
    {
     "data": {
      "text/plain": [
       "<function MDAnalysis.core.groups.AtomGroup.select_atoms(self, sel, *othersel, **selgroups)>"
      ]
     },
     "execution_count": 82,
     "metadata": {},
     "output_type": "execute_result"
    }
   ],
   "source": [
    "cluster_particles = u.select_atoms(\"name {:s}\".format(\"CE CM\"))\n",
    "MDAnalysis.core.groups.AtomGroup.select_atoms"
   ]
  },
  {
   "cell_type": "code",
   "execution_count": 83,
   "metadata": {},
   "outputs": [],
   "source": [
    "cluster_particles_dict = cluster_particles.groupby(\"resids\")\n",
    "central = cluster_particles[0]"
   ]
  },
  {
   "cell_type": "code",
   "execution_count": null,
   "metadata": {},
   "outputs": [],
   "source": []
  },
  {
   "cell_type": "code",
   "execution_count": 102,
   "metadata": {},
   "outputs": [
    {
     "name": "stdout",
     "output_type": "stream",
     "text": [
      "3\n",
      "[{<Residue SDS, 0>, <Residue SDS, 1>, <Residue SDS, 3>, <Residue SDS, 6>, <Residue SDS, 7>, <Residue SDS, 12>, <Residue SDS, 13>, <Residue SDS, 14>, <Residue SDS, 15>, <Residue SDS, 16>, <Residue SDS, 21>, <Residue SDS, 22>, <Residue SDS, 23>, <Residue SDS, 25>, <Residue SDS, 26>, <Residue SDS, 28>, <Residue SDS, 31>, <Residue SDS, 32>, <Residue SDS, 33>, <Residue SDS, 37>, <Residue SDS, 38>, <Residue SDS, 40>, <Residue SDS, 44>, <Residue SDS, 45>, <Residue SDS, 49>, <Residue SDS, 50>, <Residue SDS, 51>, <Residue SDS, 52>, <Residue SDS, 54>, <Residue SDS, 55>, <Residue SDS, 56>, <Residue SDS, 58>}, {<Residue SDS, 2>, <Residue SDS, 4>, <Residue SDS, 5>, <Residue SDS, 8>, <Residue SDS, 10>, <Residue SDS, 11>, <Residue SDS, 18>, <Residue SDS, 19>, <Residue SDS, 20>, <Residue SDS, 24>, <Residue SDS, 34>, <Residue SDS, 35>, <Residue SDS, 39>, <Residue SDS, 41>, <Residue SDS, 46>, <Residue SDS, 47>, <Residue SDS, 48>, <Residue SDS, 53>, <Residue SDS, 57>, <Residue SDS, 59>}, {<Residue SDS, 36>, <Residue SDS, 9>, <Residue SDS, 42>, <Residue SDS, 43>, <Residue SDS, 17>, <Residue SDS, 27>, <Residue SDS, 29>, <Residue SDS, 30>}]\n"
     ]
    }
   ],
   "source": [
    "%timeit\n",
    "cluster_list = []\n",
    "i = 0\n",
    "clustered_particles = {i}\n",
    "cluster_particles_set = set(cluster_particles.resids)\n",
    "cluster_over_time = []\n",
    "#remaining = cluster_particles_set.difference(res)\n",
    "#while (cluster_particles.n_atoms > 0):\n",
    "for tr in u.trajectory:\n",
    "    for atoms in cluster_particles_dict.values():\n",
    "        cluster_temp = set((AtomNeighborSearch(cluster_particles).search(atoms=atoms,\n",
    "                                                                    radius=7.5, \n",
    "                                                                    level=\"R\")))\n",
    "\n",
    "\n",
    "        cluster_list.append(cluster_temp)    \n",
    "        merged_index = []\n",
    "        for i, cluster in reversed(list(enumerate(cluster_list))):\n",
    "            if bool(cluster.intersection(cluster_temp)):\n",
    "                cluster_temp    = cluster_temp | cluster\n",
    "                cluster_list[i] = cluster_temp\n",
    "                merged_index.append(i)\n",
    "                if len(merged_index) > 1.5:\n",
    "                    del cluster_list[merged_index[0]]\n",
    "                    del merged_index[0]\n",
    "                elif len(merged_index) > 1.5:\n",
    "                    print(\"Somethings wrong!!!!!!!!!!!!\")\n",
    "    \n",
    "    cluster_over_time.append(cluster_list)\n",
    "\n",
    "            \n",
    "\n",
    "        \n",
    "        \n",
    "print(len(cluster_list))\n",
    "print(cluster_list)"
   ]
  },
  {
   "cell_type": "code",
   "execution_count": 100,
   "metadata": {},
   "outputs": [
    {
     "name": "stdout",
     "output_type": "stream",
     "text": [
      "20\n"
     ]
    }
   ],
   "source": [
    "print(len(cluster_over_time[1][1]))"
   ]
  },
  {
   "cell_type": "code",
   "execution_count": 48,
   "metadata": {},
   "outputs": [],
   "source": [
    "a = []\n",
    "for b in a:\n",
    "    print(a)"
   ]
  },
  {
   "cell_type": "code",
   "execution_count": 51,
   "metadata": {},
   "outputs": [
    {
     "data": {
      "text/plain": [
       "True"
      ]
     },
     "execution_count": 51,
     "metadata": {},
     "output_type": "execute_result"
    }
   ],
   "source": [
    "isinstance(0,int)"
   ]
  },
  {
   "cell_type": "code",
   "execution_count": null,
   "metadata": {},
   "outputs": [],
   "source": []
  }
 ],
 "metadata": {
  "kernelspec": {
   "display_name": "Python 3",
   "language": "python",
   "name": "python3"
  },
  "language_info": {
   "codemirror_mode": {
    "name": "ipython",
    "version": 3
   },
   "file_extension": ".py",
   "mimetype": "text/x-python",
   "name": "python",
   "nbconvert_exporter": "python",
   "pygments_lexer": "ipython3",
   "version": "3.7.3"
  }
 },
 "nbformat": 4,
 "nbformat_minor": 2
}
